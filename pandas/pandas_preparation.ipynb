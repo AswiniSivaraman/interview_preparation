{
 "cells": [
  {
   "cell_type": "code",
   "execution_count": 1,
   "id": "4303643b",
   "metadata": {},
   "outputs": [],
   "source": [
    "import pandas as pd"
   ]
  },
  {
   "cell_type": "code",
   "execution_count": null,
   "id": "ffe75995",
   "metadata": {},
   "outputs": [],
   "source": [
    "\"\"\"\n",
    "What Is Pandas?\n",
    "\n",
    "Pandas is like a powerful upgrade over NumPy. It lets you work with:\n",
    "    Labels (like names for rows/columns)\n",
    "    Missing data\n",
    "    Structured data, like what you’d find in spreadsheets or databases\n",
    "\"\"\"\n",
    "\n",
    "\"\"\"\n",
    "Pandas Has 3 Main Objects:\n",
    "    Series - like a labeled 1D array\n",
    "    DataFrame - like an Excel table (rows + columns)\n",
    "    Index - handles the labels (for rows or columns)\n",
    "\"\"\""
   ]
  },
  {
   "cell_type": "code",
   "execution_count": null,
   "id": "cbcd1698",
   "metadata": {},
   "outputs": [
    {
     "name": "stdout",
     "output_type": "stream",
     "text": [
      "0    0.25\n",
      "1    0.50\n",
      "2    0.75\n",
      "3    1.00\n",
      "dtype: float64\n",
      "[0.25 0.5  0.75 1.  ]\n",
      "RangeIndex(start=0, stop=4, step=1)\n"
     ]
    }
   ],
   "source": [
    "### Series – A Labeled 1D Array\n",
    "\n",
    "import pandas as pd\n",
    "data = pd.Series([0.25, 0.5, 0.75, 1.0])\n",
    "\n",
    "print(data)  # prints the data\n",
    "print(data.values)  # gives the actual NumPy array\n",
    "print(data.index)   # gives the labels (default: 0, 1, 2…)"
   ]
  },
  {
   "cell_type": "code",
   "execution_count": null,
   "id": "d933bfc9",
   "metadata": {},
   "outputs": [
    {
     "data": {
      "text/plain": [
       "0.5"
      ]
     },
     "execution_count": 7,
     "metadata": {},
     "output_type": "execute_result"
    }
   ],
   "source": [
    "# customize the index\n",
    "ind_access = pd.Series([0.25, 0.5, 0.75, 1.0], index=['a', 'b', 'c', 'd'])\n",
    "\n",
    "ind_access['b'] # access values by label"
   ]
  },
  {
   "cell_type": "code",
   "execution_count": null,
   "id": "55c56132",
   "metadata": {},
   "outputs": [
    {
     "name": "stdout",
     "output_type": "stream",
     "text": [
      "            population    area\n",
      "California    39538223  423967\n",
      "Texas         29145505  695662\n",
      "Index(['California', 'Texas'], dtype='object')\n",
      "Index(['population', 'area'], dtype='object')\n",
      "California    423967\n",
      "Texas         695662\n",
      "Name: area, dtype: int64\n"
     ]
    }
   ],
   "source": [
    "### DataFrame – A Labeled 2D Table\n",
    "\n",
    "\"A DataFrame is like multiple Series stacked together as columns.\"\n",
    "\n",
    "# Creating DataFrame from dictionary of Series\n",
    "\n",
    "population_dict = {'California': 39538223, 'Texas': 29145505}\n",
    "population = pd.Series(population_dict)\n",
    "population['Texas']  # Output: 29145505\n",
    "\n",
    "area = pd.Series({'California': 423967, 'Texas': 695662})\n",
    "states = pd.DataFrame({'population': population, 'area': area})\n",
    "\n",
    "print(states)   # pandas dataframe defined from multiple pandas series\n",
    "print(states.index) # Row labels\n",
    "print(states.columns) # column labels\n",
    "\n",
    "# Access a column like a dictionary\n",
    "print(states['area'])\n"
   ]
  },
  {
   "cell_type": "code",
   "execution_count": 16,
   "id": "07658c50",
   "metadata": {},
   "outputs": [
    {
     "data": {
      "text/html": [
       "<div>\n",
       "<style scoped>\n",
       "    .dataframe tbody tr th:only-of-type {\n",
       "        vertical-align: middle;\n",
       "    }\n",
       "\n",
       "    .dataframe tbody tr th {\n",
       "        vertical-align: top;\n",
       "    }\n",
       "\n",
       "    .dataframe thead th {\n",
       "        text-align: right;\n",
       "    }\n",
       "</style>\n",
       "<table border=\"1\" class=\"dataframe\">\n",
       "  <thead>\n",
       "    <tr style=\"text-align: right;\">\n",
       "      <th></th>\n",
       "      <th>A</th>\n",
       "      <th>B</th>\n",
       "    </tr>\n",
       "  </thead>\n",
       "  <tbody>\n",
       "    <tr>\n",
       "      <th>0</th>\n",
       "      <td>0</td>\n",
       "      <td>0.0</td>\n",
       "    </tr>\n",
       "    <tr>\n",
       "      <th>1</th>\n",
       "      <td>0</td>\n",
       "      <td>0.0</td>\n",
       "    </tr>\n",
       "    <tr>\n",
       "      <th>2</th>\n",
       "      <td>0</td>\n",
       "      <td>0.0</td>\n",
       "    </tr>\n",
       "  </tbody>\n",
       "</table>\n",
       "</div>"
      ],
      "text/plain": [
       "   A    B\n",
       "0  0  0.0\n",
       "1  0  0.0\n",
       "2  0  0.0"
      ]
     },
     "execution_count": 16,
     "metadata": {},
     "output_type": "execute_result"
    }
   ],
   "source": [
    "#  Constructing DataFrames in Different Ways\n",
    "\n",
    "'1)  From a single Series'\n",
    "pd.DataFrame(population, columns=['population'])\n",
    "\n",
    "'2) From a list of dictionaries'\n",
    "data = [{'a': 1, 'b': 2}, {'b': 3, 'c': 4}]\n",
    "pd.DataFrame(data)\n",
    "\n",
    "'3) From a NumPy 2D array'\n",
    "import numpy as np\n",
    "pd.DataFrame(np.random.rand(3, 2), columns=['foo', 'bar'], index=['a', 'b', 'c'])\n",
    "\n",
    "'4) From a structured NumPy array'\n",
    "A = np.zeros(3, dtype=[('A', 'i8'), ('B', 'f8')])\n",
    "pd.DataFrame(A)"
   ]
  },
  {
   "cell_type": "code",
   "execution_count": null,
   "id": "7301f367",
   "metadata": {},
   "outputs": [
    {
     "data": {
      "text/plain": [
       "Index([2, 5, 11], dtype='int64')"
      ]
     },
     "execution_count": 17,
     "metadata": {},
     "output_type": "execute_result"
    }
   ],
   "source": [
    "### 3. Index – Label Holder for Rows/Columns\n",
    "\"An Index is like an immutable array. It's used behind the scenes to hold labels.\"\n",
    "\n",
    "ind = pd.Index([2, 3, 5, 7, 11])\n",
    "ind[1]  # Output: 3\n",
    "ind[::2]  # Output: [2, 5, 11]\n",
    "\n",
    "# Note --> But you can’t modify index values (immutable) like ind[1]=0 (this is wrong)\n"
   ]
  },
  {
   "cell_type": "code",
   "execution_count": 21,
   "id": "e3e1a92e",
   "metadata": {},
   "outputs": [
    {
     "data": {
      "text/plain": [
       "Index([1, 2, 9, 11], dtype='int64')"
      ]
     },
     "execution_count": 21,
     "metadata": {},
     "output_type": "execute_result"
    }
   ],
   "source": [
    "# Index as a Set\n",
    "\n",
    "indA = pd.Index([1, 3, 5, 7, 9])\n",
    "indB = pd.Index([2, 3, 5, 7, 11])\n",
    "\n",
    "indA.intersection(indB)  # → [3, 5, 7]\n",
    "indA.union(indB)         # → [1, 2, 3, 5, 7, 9, 11]\n",
    "indA.symmetric_difference(indB)  # → [1, 2, 9, 11]\n"
   ]
  },
  {
   "cell_type": "code",
   "execution_count": 28,
   "id": "be196032",
   "metadata": {},
   "outputs": [
    {
     "name": "stdout",
     "output_type": "stream",
     "text": [
      "0.5\n",
      "Index(['a', 'b', 'c', 'd'], dtype='object')\n",
      "[('a', 0.25), ('b', 0.5), ('c', 0.75), ('d', 1.0)]\n",
      "a    0.25\n",
      "b    0.50\n",
      "c    0.75\n",
      "d    1.00\n",
      "e    1.25\n",
      "dtype: float64\n",
      "a    0.25\n",
      "b    0.50\n",
      "c    0.75\n",
      "dtype: float64\n",
      "a    0.25\n",
      "b    0.50\n",
      "dtype: float64\n",
      "b    0.50\n",
      "c    0.75\n",
      "dtype: float64\n",
      "a    0.25\n",
      "e    1.25\n",
      "dtype: float64\n"
     ]
    }
   ],
   "source": [
    "### Indexing a Series (1D)\n",
    "\n",
    "\"A Pandas Series is like a cross between a NumPy array and a dictionary. So you can access elements both ways\"\n",
    "\n",
    "\"1) Series as a Dictionary\"\n",
    "data = pd.Series([0.25, 0.5, 0.75, 1.0], index=['a', 'b', 'c', 'd'])\n",
    "\n",
    "print(data['b'])\n",
    "print(data.keys()) # Get all keys\n",
    "print(list(data.items())) # See items\n",
    "data['e'] = 1.25 # add new elements\n",
    "print(data)\n",
    "\n",
    "\n",
    "\"2) Series as an Array\"\n",
    "# Slicing by label (includes end)\n",
    "print(data['a':'c'])  # includes 'c'\n",
    "\n",
    "# Slicing by position (excludes end)\n",
    "print(data[0:2])  # only index 0 and 1\n",
    "\n",
    "# Masking\n",
    "print(data[(data > 0.3) & (data < 0.8)])\n",
    "\n",
    "# Fancy Indexing\n",
    "print(data[['a', 'e']])"
   ]
  },
  {
   "cell_type": "code",
   "execution_count": 29,
   "id": "521b373b",
   "metadata": {},
   "outputs": [
    {
     "name": "stdout",
     "output_type": "stream",
     "text": [
      "a\n",
      "b\n"
     ]
    }
   ],
   "source": [
    "### loc vs iloc (Important Concept)\n",
    "\n",
    "\"\"\"\n",
    "loc[] → Index by label (explicit)\n",
    "iloc[] → Index by position (implicit)\n",
    "\"\"\"\n",
    "\n",
    "data = pd.Series(['a', 'b', 'c'], index=[1, 3, 5])\n",
    "print(data.loc[1])\n",
    "print(data.iloc[1])"
   ]
  },
  {
   "cell_type": "code",
   "execution_count": null,
   "id": "649a3e6e",
   "metadata": {},
   "outputs": [
    {
     "name": "stdout",
     "output_type": "stream",
     "text": [
      "California    423967\n",
      "Texas         695662\n",
      "Name: area, dtype: int64\n",
      "California    423967\n",
      "Texas         695662\n",
      "Name: area, dtype: int64\n"
     ]
    }
   ],
   "source": [
    "## Indexing a DataFrame (2D)\n",
    "\n",
    "\"\"\"\"\n",
    "Think of a DataFrame in Two Ways:\n",
    "    Like a dictionary of Series\n",
    "    Like a 2D NumPy array\n",
    "\"\"\"\n",
    "\n",
    "# Dictionary-style (column-wise)\n",
    "print(states['area'])  #or \n",
    "print(states.area)  # shortcut, but avoid for names like `pop` that are also methods"
   ]
  },
  {
   "cell_type": "code",
   "execution_count": 38,
   "id": "820e5eef",
   "metadata": {},
   "outputs": [
    {
     "name": "stdout",
     "output_type": "stream",
     "text": [
      "            population    area\n",
      "California    39538223  423967\n",
      "Texas         29145505  695662\n"
     ]
    },
    {
     "data": {
      "text/html": [
       "<div>\n",
       "<style scoped>\n",
       "    .dataframe tbody tr th:only-of-type {\n",
       "        vertical-align: middle;\n",
       "    }\n",
       "\n",
       "    .dataframe tbody tr th {\n",
       "        vertical-align: top;\n",
       "    }\n",
       "\n",
       "    .dataframe thead th {\n",
       "        text-align: right;\n",
       "    }\n",
       "</style>\n",
       "<table border=\"1\" class=\"dataframe\">\n",
       "  <thead>\n",
       "    <tr style=\"text-align: right;\">\n",
       "      <th></th>\n",
       "      <th>population</th>\n",
       "    </tr>\n",
       "  </thead>\n",
       "  <tbody>\n",
       "    <tr>\n",
       "      <th>California</th>\n",
       "      <td>39538223</td>\n",
       "    </tr>\n",
       "    <tr>\n",
       "      <th>Texas</th>\n",
       "      <td>29145505</td>\n",
       "    </tr>\n",
       "  </tbody>\n",
       "</table>\n",
       "</div>"
      ],
      "text/plain": [
       "            population\n",
       "California    39538223\n",
       "Texas         29145505"
      ]
     },
     "execution_count": 38,
     "metadata": {},
     "output_type": "execute_result"
    }
   ],
   "source": [
    "## DataFrame as 2D Array\n",
    "print(states)\n",
    "\n",
    "\"Access raw data (NumPy-style)\"\n",
    "states.values\n",
    "\n",
    "\"Transpose rows/columns\"\n",
    "states.T\n",
    "\n",
    "\"Access using iloc (by position)\"\n",
    "states.iloc[:1, :1]\n",
    "\n",
    "\"Access using loc (by label)\"\n",
    "states.loc[:'Texas', :'population']\n"
   ]
  },
  {
   "cell_type": "code",
   "execution_count": null,
   "id": "5b97d64c",
   "metadata": {},
   "outputs": [
    {
     "name": "stdout",
     "output_type": "stream",
     "text": [
      "            population    area\n",
      "California    39538223      90\n",
      "Texas         29145505  695662\n"
     ]
    }
   ],
   "source": [
    "### Advanced Indexing Patterns\n",
    "\n",
    "\"Masking (row-wise filter)\"\n",
    "states.loc[states.area > 500000, ['population', 'area']]\n",
    "\n",
    "\"Modify a value\"\n",
    "states.iloc[0, 1] = 90  \n",
    "print(states)"
   ]
  },
  {
   "cell_type": "code",
   "execution_count": null,
   "id": "54830f1e",
   "metadata": {},
   "outputs": [
    {
     "data": {
      "text/html": [
       "<div>\n",
       "<style scoped>\n",
       "    .dataframe tbody tr th:only-of-type {\n",
       "        vertical-align: middle;\n",
       "    }\n",
       "\n",
       "    .dataframe tbody tr th {\n",
       "        vertical-align: top;\n",
       "    }\n",
       "\n",
       "    .dataframe thead th {\n",
       "        text-align: right;\n",
       "    }\n",
       "</style>\n",
       "<table border=\"1\" class=\"dataframe\">\n",
       "  <thead>\n",
       "    <tr style=\"text-align: right;\">\n",
       "      <th></th>\n",
       "      <th>population</th>\n",
       "      <th>area</th>\n",
       "    </tr>\n",
       "  </thead>\n",
       "  <tbody>\n",
       "    <tr>\n",
       "      <th>Texas</th>\n",
       "      <td>29145505</td>\n",
       "      <td>695662</td>\n",
       "    </tr>\n",
       "  </tbody>\n",
       "</table>\n",
       "</div>"
      ],
      "text/plain": [
       "       population    area\n",
       "Texas    29145505  695662"
      ]
     },
     "execution_count": 48,
     "metadata": {},
     "output_type": "execute_result"
    }
   ],
   "source": [
    "### Extra Useful Indexing Tricks\n",
    "\n",
    "\"Row slicing using labels\"\n",
    "states['California':'Texas']\n",
    "\n",
    "\"Row slicing using position\"\n",
    "states[0:1]\n",
    "\n",
    "\"Row masking\"\n",
    "states[states.area > 100]\n",
    "\n",
    "# Note : These work just like NumPy even if they don’t follow strict Pandas conventions.\n",
    "\n",
    "\"\"\"\n",
    "| Operation        | Use It For                       | Syntax                          |\n",
    "| ---------------- | -------------------------------- | ------------------------------- |\n",
    "| Dictionary-style | Column access (use with caution) | `data['col']` or `data.col`     |\n",
    "| `.loc[]`         | Label-based selection            | `data.loc['label']`             |\n",
    "| `.iloc[]`        | Position-based selection         | `data.iloc[0]`                  |\n",
    "| Masking          | Filter rows by condition         | `data[data.col > value]`        |\n",
    "| Fancy indexing   | Select multiple rows/columns     | `data.loc[:, ['col1', 'col2']]` |\n",
    "\n",
    "\"\"\""
   ]
  },
  {
   "cell_type": "code",
   "execution_count": 50,
   "id": "6a773fe6",
   "metadata": {},
   "outputs": [
    {
     "data": {
      "text/html": [
       "<div>\n",
       "<style scoped>\n",
       "    .dataframe tbody tr th:only-of-type {\n",
       "        vertical-align: middle;\n",
       "    }\n",
       "\n",
       "    .dataframe tbody tr th {\n",
       "        vertical-align: top;\n",
       "    }\n",
       "\n",
       "    .dataframe thead th {\n",
       "        text-align: right;\n",
       "    }\n",
       "</style>\n",
       "<table border=\"1\" class=\"dataframe\">\n",
       "  <thead>\n",
       "    <tr style=\"text-align: right;\">\n",
       "      <th></th>\n",
       "      <th>A</th>\n",
       "      <th>B</th>\n",
       "      <th>C</th>\n",
       "      <th>D</th>\n",
       "    </tr>\n",
       "  </thead>\n",
       "  <tbody>\n",
       "    <tr>\n",
       "      <th>0</th>\n",
       "      <td>1.224647e-16</td>\n",
       "      <td>-2.449294e-16</td>\n",
       "      <td>0.000000</td>\n",
       "      <td>-1.000000</td>\n",
       "    </tr>\n",
       "    <tr>\n",
       "      <th>1</th>\n",
       "      <td>1.000000e+00</td>\n",
       "      <td>0.000000e+00</td>\n",
       "      <td>-0.707107</td>\n",
       "      <td>0.707107</td>\n",
       "    </tr>\n",
       "    <tr>\n",
       "      <th>2</th>\n",
       "      <td>-7.071068e-01</td>\n",
       "      <td>-7.071068e-01</td>\n",
       "      <td>-0.707107</td>\n",
       "      <td>-0.707107</td>\n",
       "    </tr>\n",
       "  </tbody>\n",
       "</table>\n",
       "</div>"
      ],
      "text/plain": [
       "              A             B         C         D\n",
       "0  1.224647e-16 -2.449294e-16  0.000000 -1.000000\n",
       "1  1.000000e+00  0.000000e+00 -0.707107  0.707107\n",
       "2 -7.071068e-01 -7.071068e-01 -0.707107 -0.707107"
      ]
     },
     "execution_count": 50,
     "metadata": {},
     "output_type": "execute_result"
    }
   ],
   "source": [
    "\"\"\"\n",
    "What are Ufuncs?\n",
    "\n",
    "    Ufuncs = Universal functions (from NumPy) like:\n",
    "    +, -, *, /\n",
    "    np.exp(), np.sin(), np.log() etc.\n",
    "\n",
    "In Pandas, these preserve row/column labels and align data by index. That's the real magic!\n",
    "\"\"\"\n",
    "\n",
    "###  Unary Operations (One input)\n",
    "\n",
    "ser = pd.Series([0, 7, 6, 4])\n",
    "np.exp(ser)  # Applies e^x on each value\n",
    "\n",
    "df = pd.DataFrame([[4, 8, 0, 6], [2, 0, 5, 9], [7, 7, 7, 7]],\n",
    "                  columns=['A', 'B', 'C', 'D'])\n",
    "np.sin(df * np.pi / 4)"
   ]
  },
  {
   "cell_type": "code",
   "execution_count": 51,
   "id": "a32570a2",
   "metadata": {},
   "outputs": [
    {
     "data": {
      "text/plain": [
       "Alaska              NaN\n",
       "California    93.257784\n",
       "Florida             NaN\n",
       "Texas         41.896072\n",
       "dtype: float64"
      ]
     },
     "execution_count": 51,
     "metadata": {},
     "output_type": "execute_result"
    }
   ],
   "source": [
    "### Binary Operations (Two Inputs) with Index Alignment\n",
    "\n",
    "\"Note --> Pandas matches the index labels, even if they're not in the same order or one is missing. \"\n",
    "\n",
    "area = pd.Series({'Alaska': 1723337, 'Texas': 695662, 'California': 423967})\n",
    "population = pd.Series({'California': 39538223, 'Texas': 29145505, 'Florida': 21538187})\n",
    "population / area"
   ]
  },
  {
   "cell_type": "code",
   "execution_count": null,
   "id": "75b8e413",
   "metadata": {},
   "outputs": [
    {
     "name": "stdout",
     "output_type": "stream",
     "text": [
      "0    NaN\n",
      "1    5.0\n",
      "2    9.0\n",
      "3    NaN\n",
      "dtype: float64\n",
      "0    2.0\n",
      "1    5.0\n",
      "2    9.0\n",
      "3    5.0\n",
      "dtype: float64\n"
     ]
    }
   ],
   "source": [
    "A = pd.Series([2, 4, 6], index=[0, 1, 2])\n",
    "B = pd.Series([1, 3, 5], index=[1, 2, 3])\n",
    "\n",
    "print(A+B) #if the index is not present means it will throw NaN value\n",
    "\n",
    "print(A.add(B, fill_value=0)) # eventhough the index mismatches, it will add the mismatched index values with the fill_value"
   ]
  },
  {
   "cell_type": "code",
   "execution_count": null,
   "id": "ea20d942",
   "metadata": {},
   "outputs": [],
   "source": [
    "\"\"\"\n",
    "Python\t   Pandas method\n",
    "+\t       .add()\n",
    "-      \t   .sub() or .subtract()\n",
    "*\t       .mul()\n",
    "/\t       .div() or .truediv()\n",
    "//\t       .floordiv()\n",
    "%\t       .mod()\n",
    "**\t       .pow()\n",
    "\"\"\""
   ]
  },
  {
   "cell_type": "code",
   "execution_count": null,
   "id": "8e3c9378",
   "metadata": {},
   "outputs": [
    {
     "data": {
      "text/plain": [
       "\"Note --> It’ll match a and b columns, and ignore c where there's no match (→ NaN), aligning rows by index too.\""
      ]
     },
     "execution_count": 58,
     "metadata": {},
     "output_type": "execute_result"
    }
   ],
   "source": [
    "### DataFrame vs DataFrame Alignment\n",
    "\n",
    "\"\"\" \n",
    "Pandas aligns both:\n",
    "    Row indices\n",
    "    Column names\n",
    "\"\"\"\n",
    "\n",
    "A = pd.DataFrame([[10, 2], [16, 9]], columns=['a', 'b'])\n",
    "B = pd.DataFrame([[5, 3, 1], [9, 7, 6], [4, 8, 5]], columns=['b', 'a', 'c'])\n",
    "A+B\n",
    "\n",
    "\"Note --> It'll match a and b columns, and ignore c where there's no match (→ NaN), aligning rows by index too.\""
   ]
  },
  {
   "cell_type": "code",
   "execution_count": 63,
   "id": "d240373d",
   "metadata": {},
   "outputs": [
    {
     "name": "stdout",
     "output_type": "stream",
     "text": [
      "   Q  R  S  T\n",
      "0  4  4  2  0\n",
      "1  5  8  0  8\n",
      "2  8  2  6  1\n"
     ]
    },
    {
     "data": {
      "text/html": [
       "<div>\n",
       "<style scoped>\n",
       "    .dataframe tbody tr th:only-of-type {\n",
       "        vertical-align: middle;\n",
       "    }\n",
       "\n",
       "    .dataframe tbody tr th {\n",
       "        vertical-align: top;\n",
       "    }\n",
       "\n",
       "    .dataframe thead th {\n",
       "        text-align: right;\n",
       "    }\n",
       "</style>\n",
       "<table border=\"1\" class=\"dataframe\">\n",
       "  <thead>\n",
       "    <tr style=\"text-align: right;\">\n",
       "      <th></th>\n",
       "      <th>Q</th>\n",
       "      <th>R</th>\n",
       "      <th>S</th>\n",
       "      <th>T</th>\n",
       "    </tr>\n",
       "  </thead>\n",
       "  <tbody>\n",
       "    <tr>\n",
       "      <th>0</th>\n",
       "      <td>0</td>\n",
       "      <td>0</td>\n",
       "      <td>-2</td>\n",
       "      <td>-4</td>\n",
       "    </tr>\n",
       "    <tr>\n",
       "      <th>1</th>\n",
       "      <td>0</td>\n",
       "      <td>3</td>\n",
       "      <td>-5</td>\n",
       "      <td>3</td>\n",
       "    </tr>\n",
       "    <tr>\n",
       "      <th>2</th>\n",
       "      <td>0</td>\n",
       "      <td>-6</td>\n",
       "      <td>-2</td>\n",
       "      <td>-7</td>\n",
       "    </tr>\n",
       "  </tbody>\n",
       "</table>\n",
       "</div>"
      ],
      "text/plain": [
       "   Q  R  S  T\n",
       "0  0  0 -2 -4\n",
       "1  0  3 -5  3\n",
       "2  0 -6 -2 -7"
      ]
     },
     "execution_count": 63,
     "metadata": {},
     "output_type": "execute_result"
    }
   ],
   "source": [
    "### DataFrame and Series Operations\n",
    "\"This is like subtracting a row or a column from a table\"\n",
    "\n",
    "\"1) Row-wise subtraction (default behavior)\"\n",
    "\n",
    "df = pd.DataFrame([[4, 4, 2, 0], [5, 8, 0, 8], [8, 2, 6, 1]], columns=['Q', 'R', 'S', 'T'])\n",
    "print(df)\n",
    "df - df.iloc[1]\n",
    "\n",
    "\"2)  Column-wise subtraction\"\n",
    "df.subtract(df['Q'], axis=0)"
   ]
  },
  {
   "cell_type": "code",
   "execution_count": null,
   "id": "4ad726e4",
   "metadata": {},
   "outputs": [
    {
     "data": {
      "text/html": [
       "<div>\n",
       "<style scoped>\n",
       "    .dataframe tbody tr th:only-of-type {\n",
       "        vertical-align: middle;\n",
       "    }\n",
       "\n",
       "    .dataframe tbody tr th {\n",
       "        vertical-align: top;\n",
       "    }\n",
       "\n",
       "    .dataframe thead th {\n",
       "        text-align: right;\n",
       "    }\n",
       "</style>\n",
       "<table border=\"1\" class=\"dataframe\">\n",
       "  <thead>\n",
       "    <tr style=\"text-align: right;\">\n",
       "      <th></th>\n",
       "      <th>Q</th>\n",
       "      <th>R</th>\n",
       "      <th>S</th>\n",
       "      <th>T</th>\n",
       "    </tr>\n",
       "  </thead>\n",
       "  <tbody>\n",
       "    <tr>\n",
       "      <th>0</th>\n",
       "      <td>0.0</td>\n",
       "      <td>NaN</td>\n",
       "      <td>0.0</td>\n",
       "      <td>NaN</td>\n",
       "    </tr>\n",
       "    <tr>\n",
       "      <th>1</th>\n",
       "      <td>1.0</td>\n",
       "      <td>NaN</td>\n",
       "      <td>-2.0</td>\n",
       "      <td>NaN</td>\n",
       "    </tr>\n",
       "    <tr>\n",
       "      <th>2</th>\n",
       "      <td>4.0</td>\n",
       "      <td>NaN</td>\n",
       "      <td>4.0</td>\n",
       "      <td>NaN</td>\n",
       "    </tr>\n",
       "  </tbody>\n",
       "</table>\n",
       "</div>"
      ],
      "text/plain": [
       "     Q   R    S   T\n",
       "0  0.0 NaN  0.0 NaN\n",
       "1  1.0 NaN -2.0 NaN\n",
       "2  4.0 NaN  4.0 NaN"
      ]
     },
     "execution_count": 64,
     "metadata": {},
     "output_type": "execute_result"
    }
   ],
   "source": [
    "### Smart Alignment in Mixed Cases\n",
    "\"Even if you're subtracting just a partial row, Pandas will align columns properly.\"\n",
    "\n",
    "halfrow = df.iloc[0, ::2]  # only columns Q and S\n",
    "df - halfrow"
   ]
  },
  {
   "cell_type": "code",
   "execution_count": null,
   "id": "d17e074a",
   "metadata": {},
   "outputs": [],
   "source": [
    "\"\"\" \n",
    "What Is Missing Data?\n",
    "    Missing values are also called:\n",
    "        Null\n",
    "        NaN (Not a Number)\n",
    "        None\n",
    "        pd.NA (newer Pandas way)\n",
    "\n",
    "Why Do We Care?\n",
    "    Because:\n",
    "    Missing values break calculations or give wrong answers\n",
    "    We need to decide: Drop them or Fill them?\n",
    "\n",
    "How Does Pandas Represent Missing Data?\n",
    "\n",
    "| Type    | Sentinel Used  | Converted To      | Example Value      |\n",
    "| ------- | -------------- | ----------------- | ------------------ |\n",
    "| Float   | `np.nan`       | Float (no change) | `1.0, NaN`         |\n",
    "| Int     | `np.nan`       | Cast to float     | `1, NaN` → float64 |\n",
    "| Object  | `None` / `NaN` | No change         | `'hello', None`    |\n",
    "| Boolean | `None` / `NaN` | Cast to object    | `True, None`       |\n",
    "\n",
    "\"\"\""
   ]
  },
  {
   "cell_type": "code",
   "execution_count": 72,
   "id": "4a8f69f3",
   "metadata": {},
   "outputs": [
    {
     "data": {
      "text/plain": [
       "0       1\n",
       "1    <NA>\n",
       "2       2\n",
       "3    <NA>\n",
       "4    <NA>\n",
       "dtype: Int32"
      ]
     },
     "execution_count": 72,
     "metadata": {},
     "output_type": "execute_result"
    }
   ],
   "source": [
    "### Pandas Handling Examples\n",
    "\n",
    "\"None in NumPy\"\n",
    "vals1 = np.array([1, None, 2, 3])  # Slow operations , Fails on sum, min, etc.\n",
    "\n",
    "\"np.nan in NumPy\"\n",
    "vals2 = np.array([1, np.nan, 3, 4])  # Faster, Supports aggregation (though result is also nan):\n",
    "\n",
    "# vals1.sum()  # throws error because of none value in the array\n",
    "# vals2.sum()  # throws error because of none value in the array\n",
    "\n",
    "# np.nansum(vals2)  # throws error because of none value in the array\n",
    "np.nansum(vals2)    # returns the added value \n",
    "\n",
    "\"Pandas Handles Both None and NaN\"\n",
    "pd.Series([1, np.nan, 2, None])  # NaN for both None and np.nan\n",
    "\n",
    "\"Nullable Dtypes (New Feature)\"\n",
    "pd.Series([1, np.nan, 2, None, pd.NA], dtype=\"Int32\")  # Output: 1, <NA>, 2, <NA>, <NA>\n"
   ]
  },
  {
   "cell_type": "code",
   "execution_count": null,
   "id": "1077a411",
   "metadata": {},
   "outputs": [],
   "source": [
    "\"\"\" \n",
    "isnull\n",
    "    Generates a Boolean mask indicating missing values\n",
    "notnull\n",
    "    Opposite of isnull\n",
    "dropna\n",
    "    Returns a filtered version of the data\n",
    "fillna\n",
    "    Returns a copy of the data with missing values filled or imputed\n",
    "\n",
    "\"\"\""
   ]
  },
  {
   "cell_type": "code",
   "execution_count": 74,
   "id": "93938616",
   "metadata": {},
   "outputs": [
    {
     "name": "stdout",
     "output_type": "stream",
     "text": [
      "0    False\n",
      "1     True\n",
      "2    False\n",
      "3     True\n",
      "dtype: bool\n",
      "0    False\n",
      "1     True\n",
      "2    False\n",
      "3     True\n",
      "dtype: bool\n"
     ]
    }
   ],
   "source": [
    "### Detecting Missing Values\n",
    "\n",
    "\".isnull() and .notnull()\"\n",
    "\n",
    "data = pd.Series([1, np.nan, 'hello', None])\n",
    "\n",
    "print(data.isnull())\n",
    "print(data.isna())"
   ]
  },
  {
   "cell_type": "code",
   "execution_count": 75,
   "id": "0cdabe91",
   "metadata": {},
   "outputs": [
    {
     "data": {
      "text/html": [
       "<div>\n",
       "<style scoped>\n",
       "    .dataframe tbody tr th:only-of-type {\n",
       "        vertical-align: middle;\n",
       "    }\n",
       "\n",
       "    .dataframe tbody tr th {\n",
       "        vertical-align: top;\n",
       "    }\n",
       "\n",
       "    .dataframe thead th {\n",
       "        text-align: right;\n",
       "    }\n",
       "</style>\n",
       "<table border=\"1\" class=\"dataframe\">\n",
       "  <thead>\n",
       "    <tr style=\"text-align: right;\">\n",
       "      <th></th>\n",
       "      <th>0</th>\n",
       "      <th>1</th>\n",
       "      <th>2</th>\n",
       "    </tr>\n",
       "  </thead>\n",
       "  <tbody>\n",
       "    <tr>\n",
       "      <th>1</th>\n",
       "      <td>2.0</td>\n",
       "      <td>3.0</td>\n",
       "      <td>5</td>\n",
       "    </tr>\n",
       "  </tbody>\n",
       "</table>\n",
       "</div>"
      ],
      "text/plain": [
       "     0    1  2\n",
       "1  2.0  3.0  5"
      ]
     },
     "execution_count": 75,
     "metadata": {},
     "output_type": "execute_result"
    }
   ],
   "source": [
    "### Dropping Missing Data\n",
    "\n",
    "\"Series\"\n",
    "data.dropna()\n",
    "\n",
    "\"DataFrame\"\n",
    "df = pd.DataFrame([[1, np.nan, 2],\n",
    "                   [2, 3, 5],\n",
    "                   [np.nan, 4, 6]])\n",
    "df.dropna()  # drops rows with ANY NA\n",
    "df.dropna(axis='columns')  # drops columns with ANY NA\n",
    "df.dropna(how='all')  # drops only if ALL values are NA\n",
    "df.dropna(thresh=3)  # drops if < 3 non-NA values"
   ]
  },
  {
   "cell_type": "code",
   "execution_count": null,
   "id": "2a87d990",
   "metadata": {},
   "outputs": [],
   "source": [
    "### Filling Missing Data\n",
    "\n",
    "\" Fill with a value \"\n",
    "data.fillna(0)\n",
    "\n",
    "\"Forward Fill (ffill)\"\n",
    "data.fillna(method='ffill')  # fills with previous non-NA\n",
    "\n",
    "\"Backward Fill (bfill)\"\n",
    "data.fillna(method='bfill')  # fills with next non-NA\n",
    "\n",
    "\"DataFrame Fill by Row or Column\"\n",
    "df.fillna(method='ffill', axis=1)  # left to right fill"
   ]
  },
  {
   "cell_type": "code",
   "execution_count": null,
   "id": "cca5bdb4",
   "metadata": {},
   "outputs": [],
   "source": [
    "\"\"\" \n",
    "| Operation        | Use                                 |\n",
    "| ---------------- | ----------------------------------- |\n",
    "| `isnull()`       | Detect missing values (True/False)  |\n",
    "| `notnull()`      | Detect non-missing values           |\n",
    "| `dropna()`       | Remove rows/columns with NA         |\n",
    "| `fillna(value)`  | Replace missing values              |\n",
    "| `method='ffill'` | Fill forward                        |\n",
    "| `method='bfill'` | Fill backward                       |\n",
    "| `thresh=N`       | Keep rows/columns with ≥N non-NAs   |\n",
    "| `pd.NA`          | New missing value marker (nullable) |\n",
    "\n",
    "\"\"\""
   ]
  },
  {
   "cell_type": "code",
   "execution_count": null,
   "id": "da8ea983",
   "metadata": {},
   "outputs": [
    {
     "data": {
      "text/plain": [
       "California    39538223\n",
       "New York      20201249\n",
       "Texas         29145505\n",
       "dtype: int64"
      ]
     },
     "execution_count": 78,
     "metadata": {},
     "output_type": "execute_result"
    }
   ],
   "source": [
    "###  What is Hierarchical Indexing (MultiIndex)?\n",
    "    # Hierarchical Indexing lets you:\n",
    "        # Use multiple levels of keys in the index of a Series or DataFrame\n",
    "        # Represent 3D or 4D data inside 1D/2D objects\n",
    "        # Perform more flexible and powerful data manipulations\n",
    "\n",
    "\n",
    "# The \"Bad\" Way\n",
    "index = [('California', 2010), ('California', 2020),('New York', 2010), ('New York', 2020),('Texas', 2010), ('Texas', 2020)]\n",
    "populations = [37253956, 39538223,19378102, 20201249,25145561, 29145505]\n",
    "\n",
    "multi_index = pd.Series(populations, index=index)   # Works, but filtering becomes messy.\n",
    "\n",
    "\n",
    "# The Better Way: MultiIndex\n",
    "index = pd.MultiIndex.from_tuples(index)\n",
    "indexing_multi = multi_index.reindex(index)  # contains the  hierarchical representation of the data\n",
    "\n",
    "indexing_multi[:,2020] # Get data for year 2020"
   ]
  },
  {
   "cell_type": "code",
   "execution_count": null,
   "id": "df7e2a3a",
   "metadata": {},
   "outputs": [
    {
     "name": "stdout",
     "output_type": "stream",
     "text": [
      "California  2010    37253956\n",
      "            2020    39538223\n",
      "New York    2010    19378102\n",
      "            2020    20201249\n",
      "Texas       2010    25145561\n",
      "            2020    29145505\n",
      "dtype: int64\n"
     ]
    },
    {
     "data": {
      "text/plain": [
       "California  2010    37253956\n",
       "            2020    39538223\n",
       "New York    2010    19378102\n",
       "            2020    20201249\n",
       "Texas       2010    25145561\n",
       "            2020    29145505\n",
       "dtype: int64"
      ]
     },
     "execution_count": 83,
     "metadata": {},
     "output_type": "execute_result"
    }
   ],
   "source": [
    "### Convert Between Series ↔ DataFrame\n",
    "\n",
    "\"\"\"\n",
    "indexing_multi.unstack() → Converts one index level into columns\n",
    "unstacking.stack() → Reverts back \n",
    "\"\"\"\n",
    "print(indexing_multi)\n",
    "unstacking = indexing_multi.unstack()   # --> Converts one index level into columns\n",
    "stacking = unstacking.stack()  # --> Reverts back"
   ]
  },
  {
   "cell_type": "code",
   "execution_count": 90,
   "id": "f0396611",
   "metadata": {},
   "outputs": [
    {
     "data": {
      "text/plain": [
       "MultiIndex([('a', 1),\n",
       "            ('a', 2),\n",
       "            ('b', 1),\n",
       "            ('b', 2)],\n",
       "           )"
      ]
     },
     "execution_count": 90,
     "metadata": {},
     "output_type": "execute_result"
    }
   ],
   "source": [
    "# Add More Data Dimensions\n",
    "\n",
    "new_dimension = pd.DataFrame({\"total\" : indexing_multi, 'under18': [9284094, 8898092,4318033, 4181528,6879014, 7432474]})\n",
    "new_dimension\n",
    "\n",
    "fitler_u18 = new_dimension['under18'] / new_dimension['total']\n",
    "fitler_u18.unstack()\n",
    "\n",
    "\"\"\" \n",
    "Creating MultiIndex — Multiple Ways\n",
    "\n",
    "| Method            | Example                                                  |\n",
    "| ----------------- | -------------------------------------------------------- |\n",
    "| `from_arrays`     | `pd.MultiIndex.from_arrays([['a', 'a'], [1, 2]])`        |\n",
    "| `from_tuples`     | `pd.MultiIndex.from_tuples([('a', 1), ('a', 2)])`        |\n",
    "| `from_product`    | Cartesian product → `from_product([['a', 'b'], [1, 2]])` |\n",
    "| `levels + codes`  | Manually specify structure                               |\n",
    "| `from dictionary` | `pd.Series(data)` where keys are tuples                  |\n",
    "\n",
    "\"\"\"\n",
    "\n",
    "pd.MultiIndex.from_arrays([['a', 'a', 'b', 'b'], [1, 2, 1, 2]])\n",
    "pd.MultiIndex.from_tuples([('a', 1), ('a', 2), ('b', 1), ('b', 2)])\n",
    "pd.MultiIndex.from_product([['a', 'b'], [1, 2]])\n",
    "pd.MultiIndex(levels=[['a', 'b'], [1, 2]], codes=[[0, 0, 1, 1], [0, 1, 0, 1]])"
   ]
  },
  {
   "cell_type": "code",
   "execution_count": 94,
   "id": "72c1068e",
   "metadata": {},
   "outputs": [
    {
     "data": {
      "text/plain": [
       "year  visit\n",
       "2013  1        33.0\n",
       "      2        39.0\n",
       "2014  1        31.0\n",
       "      2        38.0\n",
       "Name: (Guido, HR), dtype: float64"
      ]
     },
     "execution_count": 94,
     "metadata": {},
     "output_type": "execute_result"
    }
   ],
   "source": [
    "### MultiIndex for Columns\n",
    "\n",
    "# hierarchical indices and columns\n",
    "index = pd.MultiIndex.from_product([[2013, 2014], [1, 2]], names=['year', 'visit'])\n",
    "columns = pd.MultiIndex.from_product([['Bob', 'Guido', 'Sue'],['HR', 'Temp']],\n",
    "names=['subject', 'type'])\n",
    "\n",
    "data = np.round(np.random.randn(4, 6), 1)\n",
    "data[:, ::2] *= 10\n",
    "data += 37\n",
    "\n",
    "health_data = pd.DataFrame(data, index=index, columns=columns)\n",
    "health_data\n",
    "health_data['Guido'] \n",
    "health_data['Guido', 'HR']\n"
   ]
  },
  {
   "cell_type": "code",
   "execution_count": 102,
   "id": "c867f99b",
   "metadata": {},
   "outputs": [
    {
     "name": "stdout",
     "output_type": "stream",
     "text": [
      "state       year\n",
      "California  2010    37253956\n",
      "            2020    39538223\n",
      "New York    2010    19378102\n",
      "            2020    20201249\n",
      "Texas       2010    25145561\n",
      "            2020    29145505\n",
      "dtype: int64\n"
     ]
    },
    {
     "data": {
      "text/plain": [
       "state       year\n",
       "California  2010    37253956\n",
       "            2020    39538223\n",
       "Texas       2010    25145561\n",
       "            2020    29145505\n",
       "dtype: int64"
      ]
     },
     "execution_count": 102,
     "metadata": {},
     "output_type": "execute_result"
    }
   ],
   "source": [
    "indexing_multi.index.names = ['state', 'year']\n",
    "print(indexing_multi)\n",
    "\n",
    "# Indexing and Slicing MultiIndex\n",
    "\n",
    "\"1) Full index:\"\n",
    "indexing_multi['California', 2010]\n",
    "\n",
    "\"2) Partial index\"\n",
    "indexing_multi['California']\n",
    "\n",
    "\"3) Cross-section by level\"\n",
    "indexing_multi[:, 2020]\n",
    "\n",
    "\"4) Boolean mask\"\n",
    "indexing_multi[indexing_multi > 22000000]\n"
   ]
  },
  {
   "cell_type": "code",
   "execution_count": null,
   "id": "0161868e",
   "metadata": {},
   "outputs": [
    {
     "name": "stdout",
     "output_type": "stream",
     "text": [
      "char  int\n",
      "a     1      0.031847\n",
      "      2      0.052100\n",
      "c     1      0.805116\n",
      "      2      0.935519\n",
      "b     1      0.409780\n",
      "      2      0.217435\n",
      "dtype: float64\n"
     ]
    },
    {
     "data": {
      "text/plain": [
       "char  int\n",
       "a     1      0.031847\n",
       "      2      0.052100\n",
       "b     1      0.409780\n",
       "      2      0.217435\n",
       "dtype: float64"
      ]
     },
     "execution_count": 106,
     "metadata": {},
     "output_type": "execute_result"
    }
   ],
   "source": [
    "### Sorted vs Unsorted Indices\n",
    "\"Some operations require the index to be sorted\"\n",
    "\n",
    "index = pd.MultiIndex.from_product([['a', 'c', 'b'], [1, 2]])\n",
    "data = pd.Series(np.random.rand(6), index=index)\n",
    "data.index.names = ['char', 'int']\n",
    "print(data)\n",
    "\n",
    "# data['a':'b'] #'Key length (1) was greater than MultiIndex lexsort depth (0)' error occurs before sorting the index\n",
    "\n",
    "data = data.sort_index()\n",
    "data['a':'b']  # after sorting it doesn't throw any error"
   ]
  },
  {
   "cell_type": "code",
   "execution_count": 111,
   "id": "38f9e789",
   "metadata": {},
   "outputs": [
    {
     "name": "stdout",
     "output_type": "stream",
     "text": [
      "char  int\n",
      "a     1      0.031847\n",
      "      2      0.052100\n",
      "b     1      0.409780\n",
      "      2      0.217435\n",
      "c     1      0.805116\n",
      "      2      0.935519\n",
      "dtype: float64\n",
      "char         a         b         c\n",
      "int                               \n",
      "1     0.031847  0.409780  0.805116\n",
      "2     0.052100  0.217435  0.935519\n",
      "int          1         2\n",
      "char                    \n",
      "a     0.031847  0.052100\n",
      "b     0.409780  0.217435\n",
      "c     0.805116  0.935519\n",
      "char  int\n",
      "a     1      0.031847\n",
      "      2      0.052100\n",
      "b     1      0.409780\n",
      "      2      0.217435\n",
      "c     1      0.805116\n",
      "      2      0.935519\n",
      "dtype: float64\n"
     ]
    },
    {
     "data": {
      "text/html": [
       "<div>\n",
       "<style scoped>\n",
       "    .dataframe tbody tr th:only-of-type {\n",
       "        vertical-align: middle;\n",
       "    }\n",
       "\n",
       "    .dataframe tbody tr th {\n",
       "        vertical-align: top;\n",
       "    }\n",
       "\n",
       "    .dataframe thead th {\n",
       "        text-align: right;\n",
       "    }\n",
       "</style>\n",
       "<table border=\"1\" class=\"dataframe\">\n",
       "  <thead>\n",
       "    <tr style=\"text-align: right;\">\n",
       "      <th></th>\n",
       "      <th></th>\n",
       "      <th>population</th>\n",
       "    </tr>\n",
       "    <tr>\n",
       "      <th>state</th>\n",
       "      <th>year</th>\n",
       "      <th></th>\n",
       "    </tr>\n",
       "  </thead>\n",
       "  <tbody>\n",
       "    <tr>\n",
       "      <th rowspan=\"2\" valign=\"top\">California</th>\n",
       "      <th>2010</th>\n",
       "      <td>37253956</td>\n",
       "    </tr>\n",
       "    <tr>\n",
       "      <th>2020</th>\n",
       "      <td>39538223</td>\n",
       "    </tr>\n",
       "    <tr>\n",
       "      <th rowspan=\"2\" valign=\"top\">New York</th>\n",
       "      <th>2010</th>\n",
       "      <td>19378102</td>\n",
       "    </tr>\n",
       "    <tr>\n",
       "      <th>2020</th>\n",
       "      <td>20201249</td>\n",
       "    </tr>\n",
       "    <tr>\n",
       "      <th rowspan=\"2\" valign=\"top\">Texas</th>\n",
       "      <th>2010</th>\n",
       "      <td>25145561</td>\n",
       "    </tr>\n",
       "    <tr>\n",
       "      <th>2020</th>\n",
       "      <td>29145505</td>\n",
       "    </tr>\n",
       "  </tbody>\n",
       "</table>\n",
       "</div>"
      ],
      "text/plain": [
       "                 population\n",
       "state      year            \n",
       "California 2010    37253956\n",
       "           2020    39538223\n",
       "New York   2010    19378102\n",
       "           2020    20201249\n",
       "Texas      2010    25145561\n",
       "           2020    29145505"
      ]
     },
     "execution_count": 111,
     "metadata": {},
     "output_type": "execute_result"
    }
   ],
   "source": [
    "### Reshaping Data\n",
    "\n",
    "print(data)\n",
    "\n",
    "\"1) stack() and unstack()\"\n",
    "print(data.unstack(level=0))  # char a,b,c as columns\n",
    "print(data.unstack(level=1))  # int 1,2 as columns\n",
    "print(data.unstack().stack()) # original data\n",
    "\n",
    "\n",
    "\"2) reset_index() → Convert index to columns\"\n",
    "flat = indexing_multi.reset_index(name='population')\n",
    "\n",
    "\"3) set_index() → Columns → Index\"\n",
    "flat.set_index(['state', 'year'])\n"
   ]
  }
 ],
 "metadata": {
  "kernelspec": {
   "display_name": "guvi_projects_env",
   "language": "python",
   "name": "python3"
  },
  "language_info": {
   "codemirror_mode": {
    "name": "ipython",
    "version": 3
   },
   "file_extension": ".py",
   "mimetype": "text/x-python",
   "name": "python",
   "nbconvert_exporter": "python",
   "pygments_lexer": "ipython3",
   "version": "3.12.2"
  }
 },
 "nbformat": 4,
 "nbformat_minor": 5
}
