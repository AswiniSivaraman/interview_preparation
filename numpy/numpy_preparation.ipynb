{
 "cells": [
  {
   "cell_type": "code",
   "execution_count": 2,
   "metadata": {},
   "outputs": [],
   "source": [
    "import numpy as np"
   ]
  },
  {
   "cell_type": "code",
   "execution_count": null,
   "id": "fc1828c8",
   "metadata": {},
   "outputs": [
    {
     "data": {
      "text/plain": [
       "array([1, 2, 3, 4])"
      ]
     },
     "execution_count": 2,
     "metadata": {},
     "output_type": "execute_result"
    }
   ],
   "source": [
    "np.array([1,2,3,4]) # 1d array"
   ]
  },
  {
   "cell_type": "code",
   "execution_count": null,
   "id": "08eb7c72",
   "metadata": {},
   "outputs": [
    {
     "data": {
      "text/plain": [
       "array([[1, 2],\n",
       "       [3, 4]])"
      ]
     },
     "execution_count": 4,
     "metadata": {},
     "output_type": "execute_result"
    }
   ],
   "source": [
    "np.array([[1,2],[3,4]])  # 2d array"
   ]
  },
  {
   "cell_type": "code",
   "execution_count": null,
   "id": "d24949bb",
   "metadata": {},
   "outputs": [
    {
     "data": {
      "text/plain": [
       "array([[[1, 2, 3],\n",
       "        [4, 5, 6]]])"
      ]
     },
     "execution_count": 5,
     "metadata": {},
     "output_type": "execute_result"
    }
   ],
   "source": [
    "np.array([[[1,2,3],[4,5,6]]]) # 3d array"
   ]
  },
  {
   "cell_type": "code",
   "execution_count": 6,
   "id": "21e65278",
   "metadata": {},
   "outputs": [
    {
     "data": {
      "text/plain": [
       "array([1., 2., 4.], dtype=float32)"
      ]
     },
     "execution_count": 6,
     "metadata": {},
     "output_type": "execute_result"
    }
   ],
   "source": [
    "np.array([1,2,4],dtype=np.float32) # 1d array with float32 data type"
   ]
  },
  {
   "cell_type": "code",
   "execution_count": null,
   "id": "05a83e4d",
   "metadata": {},
   "outputs": [
    {
     "data": {
      "text/plain": [
       "array([1.2, 3. , 4. ])"
      ]
     },
     "execution_count": 7,
     "metadata": {},
     "output_type": "execute_result"
    }
   ],
   "source": [
    "# If you give mixed types, NumPy automatically upcasts them to a common type\n",
    "np.array([1.2,3,4])   # becomes all float"
   ]
  },
  {
   "cell_type": "code",
   "execution_count": null,
   "id": "7b980c55",
   "metadata": {},
   "outputs": [
    {
     "data": {
      "text/plain": [
       "array([0., 0., 0., 0., 0., 0., 0., 0., 0., 0.])"
      ]
     },
     "execution_count": 8,
     "metadata": {},
     "output_type": "execute_result"
    }
   ],
   "source": [
    "np.zeros(10) # 1d array of zeros"
   ]
  },
  {
   "cell_type": "code",
   "execution_count": 9,
   "id": "f50c5df8",
   "metadata": {},
   "outputs": [
    {
     "data": {
      "text/plain": [
       "array([[0., 0., 0.],\n",
       "       [0., 0., 0.]])"
      ]
     },
     "execution_count": 9,
     "metadata": {},
     "output_type": "execute_result"
    }
   ],
   "source": [
    "np.zeros((2,3)) # 2d array with all zeros"
   ]
  },
  {
   "cell_type": "code",
   "execution_count": 12,
   "id": "ac86f8a8",
   "metadata": {},
   "outputs": [
    {
     "data": {
      "text/plain": [
       "array([[0., 0.],\n",
       "       [0., 0.],\n",
       "       [0., 0.]])"
      ]
     },
     "execution_count": 12,
     "metadata": {},
     "output_type": "execute_result"
    }
   ],
   "source": [
    "np.zeros((3,2)) # 3d array with all zeros"
   ]
  },
  {
   "cell_type": "code",
   "execution_count": 13,
   "id": "b222fb23",
   "metadata": {},
   "outputs": [
    {
     "data": {
      "text/plain": [
       "array([1., 1., 1., 1., 1., 1., 1., 1., 1., 1.])"
      ]
     },
     "execution_count": 13,
     "metadata": {},
     "output_type": "execute_result"
    }
   ],
   "source": [
    "np.ones(10) # 1d array of ones"
   ]
  },
  {
   "cell_type": "code",
   "execution_count": 16,
   "id": "034fe692",
   "metadata": {},
   "outputs": [
    {
     "data": {
      "text/plain": [
       "array([[1., 1., 1.],\n",
       "       [1., 1., 1.]])"
      ]
     },
     "execution_count": 16,
     "metadata": {},
     "output_type": "execute_result"
    }
   ],
   "source": [
    "np.ones((2,3)) # 2d array with all ones"
   ]
  },
  {
   "cell_type": "code",
   "execution_count": 17,
   "id": "b826b9f1",
   "metadata": {},
   "outputs": [
    {
     "data": {
      "text/plain": [
       "array([[1., 1., 1., 1., 1.],\n",
       "       [1., 1., 1., 1., 1.],\n",
       "       [1., 1., 1., 1., 1.]])"
      ]
     },
     "execution_count": 17,
     "metadata": {},
     "output_type": "execute_result"
    }
   ],
   "source": [
    "np.ones((3,5)) # 3d array with all ones"
   ]
  },
  {
   "cell_type": "code",
   "execution_count": 20,
   "id": "878a1983",
   "metadata": {},
   "outputs": [
    {
     "data": {
      "text/plain": [
       "array([1.1, 1.1, 1.1, 1.1, 1.1])"
      ]
     },
     "execution_count": 20,
     "metadata": {},
     "output_type": "execute_result"
    }
   ],
   "source": [
    "np.full(5, 1.1) # 1d array with all 1.1"
   ]
  },
  {
   "cell_type": "code",
   "execution_count": 19,
   "id": "4957c00f",
   "metadata": {},
   "outputs": [
    {
     "data": {
      "text/plain": [
       "array([[1.1, 1.1],\n",
       "       [1.1, 1.1]])"
      ]
     },
     "execution_count": 19,
     "metadata": {},
     "output_type": "execute_result"
    }
   ],
   "source": [
    "np.full((2,2),1.1) # 2d array with all 1.1"
   ]
  },
  {
   "cell_type": "code",
   "execution_count": 21,
   "id": "ada534c1",
   "metadata": {},
   "outputs": [
    {
     "data": {
      "text/plain": [
       "array([[2, 2, 2, 2],\n",
       "       [2, 2, 2, 2],\n",
       "       [2, 2, 2, 2]])"
      ]
     },
     "execution_count": 21,
     "metadata": {},
     "output_type": "execute_result"
    }
   ],
   "source": [
    "np.full((3,4), 2) # 3d array with all 2"
   ]
  },
  {
   "cell_type": "code",
   "execution_count": 23,
   "id": "96e7cf24",
   "metadata": {},
   "outputs": [
    {
     "data": {
      "text/plain": [
       "array([0, 1, 2, 3, 4])"
      ]
     },
     "execution_count": 23,
     "metadata": {},
     "output_type": "execute_result"
    }
   ],
   "source": [
    "np.arange(5) # 1d array with values from 0 to 4"
   ]
  },
  {
   "cell_type": "code",
   "execution_count": 24,
   "id": "5f3ce2a2",
   "metadata": {},
   "outputs": [
    {
     "data": {
      "text/plain": [
       "array([0, 1, 2, 3, 4, 5, 6, 7, 8, 9])"
      ]
     },
     "execution_count": 24,
     "metadata": {},
     "output_type": "execute_result"
    }
   ],
   "source": [
    "np.arange(0,10,1) # 1d array with values from 0 to 9"
   ]
  },
  {
   "cell_type": "code",
   "execution_count": 22,
   "id": "29fdcde2",
   "metadata": {},
   "outputs": [
    {
     "data": {
      "text/plain": [
       "array([ 0,  2,  4,  6,  8, 10, 12, 14, 16, 18])"
      ]
     },
     "execution_count": 22,
     "metadata": {},
     "output_type": "execute_result"
    }
   ],
   "source": [
    "np.arange(0,20,2) # 1d array with values from 0 to 20 with step of 2"
   ]
  },
  {
   "cell_type": "code",
   "execution_count": 27,
   "id": "20bd3b3c",
   "metadata": {},
   "outputs": [
    {
     "data": {
      "text/plain": [
       "array([0.  , 0.25, 0.5 , 0.75, 1.  ])"
      ]
     },
     "execution_count": 27,
     "metadata": {},
     "output_type": "execute_result"
    }
   ],
   "source": [
    "np.linspace(0,1,5) # 1d array with 5 values evenly spaced between 0 and 1"
   ]
  },
  {
   "cell_type": "code",
   "execution_count": 29,
   "id": "f4f41aee",
   "metadata": {},
   "outputs": [
    {
     "data": {
      "text/plain": [
       "array([ 0.        ,  3.33333333,  6.66666667, 10.        ])"
      ]
     },
     "execution_count": 29,
     "metadata": {},
     "output_type": "execute_result"
    }
   ],
   "source": [
    "np.linspace(0,10,4) # 1d array with 5 values evenly spaced between 0 and 10"
   ]
  },
  {
   "cell_type": "code",
   "execution_count": 30,
   "id": "1cfc06ce",
   "metadata": {},
   "outputs": [
    {
     "data": {
      "text/plain": [
       "array([0.30522255, 0.14959738, 0.41533683, 0.13953818, 0.35882331])"
      ]
     },
     "execution_count": 30,
     "metadata": {},
     "output_type": "execute_result"
    }
   ],
   "source": [
    "np.random.random(5) # 1d array with 5 random values between 0 and 1"
   ]
  },
  {
   "cell_type": "code",
   "execution_count": null,
   "id": "035200bc",
   "metadata": {},
   "outputs": [
    {
     "data": {
      "text/plain": [
       "array([[0.94706335, 0.11475001, 0.97491456],\n",
       "       [0.71032917, 0.93996799, 0.33278278]])"
      ]
     },
     "execution_count": 31,
     "metadata": {},
     "output_type": "execute_result"
    }
   ],
   "source": [
    "np.random.random((2,3)) # 2d array with 6 random values between 0 and 1"
   ]
  },
  {
   "cell_type": "code",
   "execution_count": 32,
   "id": "be24876c",
   "metadata": {},
   "outputs": [
    {
     "data": {
      "text/plain": [
       "array([ 0.60055182,  0.70163992, -0.48559262, -1.09258932, -0.00328598])"
      ]
     },
     "execution_count": 32,
     "metadata": {},
     "output_type": "execute_result"
    }
   ],
   "source": [
    "np.random.normal(0,1,5) # 1d array with 5 random values from normal distribution with mean 0 and std 1"
   ]
  },
  {
   "cell_type": "code",
   "execution_count": 33,
   "id": "d1452407",
   "metadata": {},
   "outputs": [
    {
     "data": {
      "text/plain": [
       "array([[-0.78919042,  0.72191352,  1.28455691],\n",
       "       [-0.01409405, -1.15266284,  0.0346519 ],\n",
       "       [-0.90040205, -1.3316318 , -1.7586746 ]])"
      ]
     },
     "execution_count": 33,
     "metadata": {},
     "output_type": "execute_result"
    }
   ],
   "source": [
    "np.random.normal(0,1,(3,3)) # 2d array with 9 random values from normal distribution with mean 0 and std 1"
   ]
  },
  {
   "cell_type": "code",
   "execution_count": 34,
   "id": "a5127d02",
   "metadata": {},
   "outputs": [
    {
     "data": {
      "text/plain": [
       "array([[-23.83317835,  33.2254174 , 220.38045411],\n",
       "       [-85.5337805 ,  -1.72074938,  48.64318046]])"
      ]
     },
     "execution_count": 34,
     "metadata": {},
     "output_type": "execute_result"
    }
   ],
   "source": [
    "np.random.normal(0,100,(2,3)) # 2d array with 6 random values from normal distribution with mean 0 and std 100"
   ]
  },
  {
   "cell_type": "code",
   "execution_count": 35,
   "id": "882da066",
   "metadata": {},
   "outputs": [
    {
     "data": {
      "text/plain": [
       "array([[1., 0., 0.],\n",
       "       [0., 1., 0.],\n",
       "       [0., 0., 1.]])"
      ]
     },
     "execution_count": 35,
     "metadata": {},
     "output_type": "execute_result"
    }
   ],
   "source": [
    "np.eye(3) # 2d identity matrix of size 3x3"
   ]
  },
  {
   "cell_type": "code",
   "execution_count": 40,
   "id": "626c5f94",
   "metadata": {},
   "outputs": [
    {
     "data": {
      "text/plain": [
       "array([[1., 0., 0., 0., 0.],\n",
       "       [0., 1., 0., 0., 0.],\n",
       "       [0., 0., 1., 0., 0.],\n",
       "       [0., 0., 0., 1., 0.],\n",
       "       [0., 0., 0., 0., 1.]])"
      ]
     },
     "execution_count": 40,
     "metadata": {},
     "output_type": "execute_result"
    }
   ],
   "source": [
    "np.eye(5) # 2d identity matrix of size 3x3"
   ]
  },
  {
   "cell_type": "code",
   "execution_count": 45,
   "id": "485d3a53",
   "metadata": {},
   "outputs": [
    {
     "data": {
      "text/plain": [
       "array([[1., 1., 1., 1., 1.],\n",
       "       [1., 1., 1., 1., 1.]])"
      ]
     },
     "execution_count": 45,
     "metadata": {},
     "output_type": "execute_result"
    }
   ],
   "source": [
    "np.empty((2,5)) # 1d empty array of size 5"
   ]
  },
  {
   "cell_type": "code",
   "execution_count": null,
   "id": "90df1c53",
   "metadata": {},
   "outputs": [
    {
     "data": {
      "text/plain": [
       "array([[1, 2, 3, 4, 5]])"
      ]
     },
     "execution_count": 57,
     "metadata": {},
     "output_type": "execute_result"
    }
   ],
   "source": [
    "x1 = np.array([1,2,3,4,5])\n",
    "\n",
    "\n",
    "\"\"\"  Array Attributes \"\"\"\n",
    "x1.ndim # number of dimensions of x1\n",
    "x1.shape # shape of x1 (number of elements in each dimension)\n",
    "x1.size # total number of elements in x1\n",
    "x1.dtype # data type of elements in x1\n",
    "x1.itemsize # size of each element in bytes\n",
    "x1.nbytes # total size of x1 in bytes\n",
    "x1.T # transpose of x1 (not applicable for 1d arrays, but works for 2d and higher)\n",
    "x1.reshape(5,1) # reshape x1 to 2d array with 5 rows and 1 column\n",
    "x1.reshape(1,5) # reshape x1 to 2d array with 1 row and 5 columns\n",
    "x1.reshape(5,1).T # transpose of reshaped x1\n"
   ]
  },
  {
   "cell_type": "code",
   "execution_count": null,
   "id": "12e66d53",
   "metadata": {},
   "outputs": [
    {
     "name": "stdout",
     "output_type": "stream",
     "text": [
      "3 8\n",
      "[[1 2 3]\n",
      " [4 5 6]\n",
      " [7 8 9]]\n",
      "1 6 8\n"
     ]
    },
    {
     "data": {
      "text/plain": [
       "array([[6, 2, 3],\n",
       "       [4, 5, 6],\n",
       "       [7, 8, 9]])"
      ]
     },
     "execution_count": 64,
     "metadata": {},
     "output_type": "execute_result"
    }
   ],
   "source": [
    "\"\"\" Indexing Arrays (Accessing Elements) \"\"\"\n",
    "\n",
    "# 1d array indexing\n",
    "x2 = np.array([3,4,6,6,8])\n",
    "print(x2[0], x2[-1])\n",
    "\n",
    "\n",
    "# 2d array indexing\n",
    "x3 = np.array([[1,2,3],[4,5,6],[7,8,9]])\n",
    "print(x3)\n",
    "print(x3[0,0], x3[1,2], x3[-1,-2])  # Accessing specific elements\n",
    "\n",
    "x3[0,0] = 5\n",
    "x3\n",
    "\n",
    "# Note: If you insert a float into an integer array, it silently gets truncated:\n",
    "\n",
    "x3[0,0] = 6.6  # This will truncate the float to 6\n",
    "x3\n"
   ]
  },
  {
   "cell_type": "code",
   "execution_count": 91,
   "id": "cea76a20",
   "metadata": {},
   "outputs": [
    {
     "name": "stdout",
     "output_type": "stream",
     "text": [
      "[5.2, 0, 5, 6, 1]\n"
     ]
    }
   ],
   "source": [
    "k = [3,0,5,6,1]\n",
    "k[0]= 5.2\n",
    "print(k)"
   ]
  },
  {
   "cell_type": "code",
   "execution_count": null,
   "id": "74499303",
   "metadata": {},
   "outputs": [
    {
     "name": "stdout",
     "output_type": "stream",
     "text": [
      "[5.2 0.  5.  6.  1. ]\n"
     ]
    }
   ],
   "source": [
    "\"\"\"If dtype is not specified while creating a NumPy array, it may default to object. \n",
    "Modifying a value with a different data type can cause the entire array to adopt the new data type.\"\"\"\n",
    "\n",
    "k1 = np.array(k)\n",
    "k1[0] = 5.2  # This will truncate the float to 5\n",
    "print(k1)"
   ]
  },
  {
   "cell_type": "code",
   "execution_count": null,
   "id": "49d1362b",
   "metadata": {},
   "outputs": [
    {
     "name": "stdout",
     "output_type": "stream",
     "text": [
      "[5 0 5 6 1]\n"
     ]
    }
   ],
   "source": [
    "\"\"\"\n",
    "if the dtype is specified, it will truncate the other dtype to the specified dtype.\n",
    "\"\"\"\n",
    "\n",
    "k3 = np.array(k, dtype=np.int32)  # Explicitly set dtype to int32\n",
    "k3[0] = 5.2  # This will truncate the float to 5\n",
    "print(k3)"
   ]
  },
  {
   "cell_type": "code",
   "execution_count": null,
   "id": "2d8306a8",
   "metadata": {},
   "outputs": [
    {
     "name": "stdout",
     "output_type": "stream",
     "text": [
      "[[5 2 3]\n",
      " [4 5 6]\n",
      " [7 8 9]]\n"
     ]
    }
   ],
   "source": [
    "\"\"\"\n",
    "by default 2d array in numpy fix the dtype based on the values in the array.\n",
    "if new value is inserted with different dtype, it will truncate the value to the dtype of the array.\n",
    "\"\"\"\n",
    "\n",
    "k2 = np.array(([1,2,3],[4,5,6],[7,8,9]))\n",
    "k2[0,0] = 5.2  # This will truncate the float to 5\n",
    "print(k2)"
   ]
  },
  {
   "cell_type": "code",
   "execution_count": 75,
   "id": "23def3bd",
   "metadata": {},
   "outputs": [
    {
     "name": "stdout",
     "output_type": "stream",
     "text": [
      "[ 5  8 11 14 17]\n",
      "[[1 2 3]\n",
      " [4 5 6]\n",
      " [7 8 9]]\n",
      "[1 4 7]\n"
     ]
    }
   ],
   "source": [
    "x4 = np.arange(5,20,3)  # Create a 1d array with values from 5 to 20 with step of 3\n",
    "print(x4)\n",
    "\n",
    "\"\"\" Slicing Arrays (Accessing Subarrays) \"\"\"\n",
    "\n",
    "# 1d array slicing\n",
    "x4[:3]  # Get the first 3 elements of x4\n",
    "x4[3:]  # Get all elements from index 3 to the end\n",
    "x4[::-1]  # Reverse the array\n",
    "\n",
    "# 2d array slicing\n",
    "x5 = np.array([[1,2,3],[4,5,6],[7,8,9]])\n",
    "print(x5)\n",
    "x5[:2, :3]  # Get the first 2 rows and first 2 columns\n",
    "print(x5[:, 0]) # Get all rows and the first column"
   ]
  },
  {
   "cell_type": "code",
   "execution_count": 84,
   "id": "d79558ab",
   "metadata": {},
   "outputs": [
    {
     "name": "stdout",
     "output_type": "stream",
     "text": [
      "[[1 2 3]\n",
      " [4 5 6]\n",
      " [7 8 9]]\n"
     ]
    }
   ],
   "source": [
    "\"\"\" Reshaping Arrays\"\"\"\n",
    "\n",
    "x6 = np.arange(1,10)  # Create a 1d array with values from 1 to 9\n",
    "grid = x6.reshape((3, 3))  # Reshape it to a 2d array with 3 rows and 3 columns\n",
    "print(grid)\n",
    "\n"
   ]
  },
  {
   "cell_type": "code",
   "execution_count": null,
   "id": "b64d40ec",
   "metadata": {},
   "outputs": [
    {
     "data": {
      "text/plain": [
       "array([[1, 2, 3],\n",
       "       [4, 5, 6],\n",
       "       [7, 8, 9],\n",
       "       [1, 2, 3],\n",
       "       [4, 5, 6],\n",
       "       [7, 8, 9]])"
      ]
     },
     "execution_count": 87,
     "metadata": {},
     "output_type": "execute_result"
    }
   ],
   "source": [
    "\"\"\" Concatenating Arrays \"\"\"\n",
    "\n",
    "np.concatenate([x4, x6])  # Concatenate two 1d arrays\n",
    "np.concatenate([x5, grid])  # Concatenate two 2d arrays\n",
    "np.concatenate([x5, grid], axis=1)  # Concatenate along columns\n",
    "np.concatenate([x5, grid], axis=0)  # Concatenate along rows"
   ]
  },
  {
   "cell_type": "code",
   "execution_count": 90,
   "id": "76d0fa54",
   "metadata": {},
   "outputs": [
    {
     "name": "stdout",
     "output_type": "stream",
     "text": [
      "[1 2]\n",
      "[ 3 99 99]\n",
      "[3 2 1]\n",
      "[[1 2 3]\n",
      " [4 5 6]]\n",
      "[[7 8 9]]\n"
     ]
    }
   ],
   "source": [
    "\"\"\" Splitting Arrays \"\"\"\n",
    "\n",
    "x = [1, 2, 3, 99, 99, 3, 2, 1]\n",
    "y1, y2, y3 = np.split(x, [2, 5])  # Split x into three parts at indices 3 and 5\n",
    "print(y1)  # First part\n",
    "print(y2)  # Second part        \n",
    "print(y3)  # Third part\n",
    "\n",
    "# Splitting 2d arrays\n",
    "x7 = np.array([[1, 2, 3], [4, 5, 6], [7, 8, 9]])\n",
    "y4, y5 = np.split(x7, [2])  # Split x7 into two parts at index 2\n",
    "print(y4)  # First part\n",
    "print(y5)  # Second part"
   ]
  },
  {
   "cell_type": "code",
   "execution_count": null,
   "id": "f6e384dd",
   "metadata": {},
   "outputs": [],
   "source": [
    "\"\"\" Python loops are slow for large data.\n",
    "\n",
    "NumPy gives us vectorized operations via universal functions (ufuncs).\n",
    "\n",
    "These make mathematical operations on arrays super fast, because they run in compiled C code underneath. \"\"\""
   ]
  },
  {
   "cell_type": "code",
   "execution_count": 15,
   "id": "074f2cb9",
   "metadata": {},
   "outputs": [
    {
     "data": {
      "text/plain": [
       "array([1, 2, 3])"
      ]
     },
     "execution_count": 15,
     "metadata": {},
     "output_type": "execute_result"
    }
   ],
   "source": [
    "# Types of Ufuncs\n",
    "\n",
    "# 1. Unary ufuncs – operate on 1 input\n",
    "\n",
    "-np.array([1, 2, 3])\n",
    "np.abs([-2, 0, 2])\n",
    "np.exp([1, 2, 3])\n",
    "np.log([1, 2, 10])\n",
    "\n",
    "# 2. Binary ufuncs – operate on 2 inputs\n",
    "np.add([1, 2, 3], [4, 5, 6])  # Element-wise addition\n",
    "np.subtract([1, 2, 3], [4, 5, 6])  # Element-wise subtraction\n",
    "np.multiply([1, 2, 3], [4, 5, 6])  # Element-wise multiplication\n",
    "np.divide([1, 2, 3], [4, 5, 6])  # Element-wise division\n",
    "np.power([1, 2, 3], [4, 5, 6])  # Element-wise exponentiation\n",
    "np.maximum([1, 2, 3], [4, 5, 6])  # Element-wise maximum\n",
    "np.minimum([1, 2, 3], [4, 5, 6])  # Element-wise minimum\n",
    "np.mod([1, 2, 3], [4, 5, 6])  # Element-wise modulus"
   ]
  },
  {
   "cell_type": "code",
   "execution_count": 23,
   "id": "f0300ded",
   "metadata": {},
   "outputs": [
    {
     "data": {
      "text/plain": [
       "array([1, 1, 1, 1])"
      ]
     },
     "execution_count": 23,
     "metadata": {},
     "output_type": "execute_result"
    }
   ],
   "source": [
    "# Aggregations with .reduce()\n",
    "\n",
    "np.add.reduce([1, 2, 3, 4])  # Sum of all elements\n",
    "np.multiply.reduce([1, 2, 3, 4])  # Product of all elements\n",
    "np.maximum.reduce([1, 2, 3, 4])  # Maximum of all elements\n",
    "np.minimum.reduce([1, 2, 3, 4])  # Minimum of all elements\n",
    "\n",
    "# Intermediate Results with .accumulate()\n",
    "np.add.accumulate([1, 2, 3, 4])  # Cumulative sum\n",
    "np.multiply.accumulate([1, 2, 3, 4])  # Cumulative product\n",
    "np.maximum.accumulate([1, 2, 3, 4])  # Cumulative maximum\n",
    "np.minimum.accumulate([1, 2, 3, 4])  # Cumulative minimum"
   ]
  },
  {
   "cell_type": "code",
   "execution_count": 26,
   "id": "70372b66",
   "metadata": {},
   "outputs": [
    {
     "data": {
      "text/plain": [
       "25"
      ]
     },
     "execution_count": 26,
     "metadata": {},
     "output_type": "execute_result"
    }
   ],
   "source": [
    "x=5\n",
    "np.multiply.outer(x, x)"
   ]
  },
  {
   "cell_type": "code",
   "execution_count": null,
   "id": "62e74b36",
   "metadata": {},
   "outputs": [
    {
     "name": "stdout",
     "output_type": "stream",
     "text": [
      "[60.]\n"
     ]
    }
   ],
   "source": [
    "x = 6\n",
    "y = np.empty(1)                    # Create an empty array to hold the result\n",
    "a = np.multiply(x, 10, out=y)\n",
    "print(a)     # [20.]\n",
    "\n",
    "\n",
    "\"\"\" Use out= only when:\n",
    "\n",
    "You’re doing big computations and want to avoid creating temporary arrays.\n",
    "\n",
    "Or you're writing into specific slices of another array. \"\"\""
   ]
  },
  {
   "cell_type": "code",
   "execution_count": null,
   "id": "4ed250b4",
   "metadata": {},
   "outputs": [],
   "source": [
    "\"\"\"\n",
    "What Are Aggregations?\n",
    "Aggregations are summary statistics — they take many values and reduce them to a single number or a set of simpler values.\n",
    "\n",
    "Examples:\n",
    "\n",
    "sum: Total of all values\n",
    "\n",
    "mean: Average\n",
    "\n",
    "min, max: Smallest/largest\n",
    "\n",
    "std: Standard deviation\n",
    "\n",
    "percentile, median: Distribution-based values\"\"\""
   ]
  },
  {
   "cell_type": "code",
   "execution_count": 39,
   "id": "782fb0ae",
   "metadata": {},
   "outputs": [
    {
     "name": "stdout",
     "output_type": "stream",
     "text": [
      "15\n",
      "1\n",
      "5\n",
      "1\n",
      "5\n"
     ]
    }
   ],
   "source": [
    "summing = np.array([1, 2, 3, 4, 5])\n",
    "print(np.sum(summing))  # Sum of all elements\n",
    "print(min(summing))  # Minimum value in python\n",
    "print(max(summing))  # Maximum value in python\n",
    "print(np.min(summing))  # Minimum value in numpy\n",
    "print(np.max(summing))  # Maximum value in numpy"
   ]
  },
  {
   "cell_type": "code",
   "execution_count": 44,
   "id": "fe7260bb",
   "metadata": {},
   "outputs": [
    {
     "name": "stdout",
     "output_type": "stream",
     "text": [
      "45\n",
      "0\n",
      "9\n",
      "[0 3 1 0]\n",
      "[3 9 8]\n"
     ]
    },
    {
     "data": {
      "text/plain": [
       "'Axis Rule:\\naxis=0 → operate down columns\\naxis=1 → operate across rows\\n'"
      ]
     },
     "execution_count": 44,
     "metadata": {},
     "output_type": "execute_result"
    }
   ],
   "source": [
    "# Multidimensional Aggregates\n",
    "\n",
    "M = np.array([\n",
    "    [0, 3, 1, 2],\n",
    "    [1, 9, 7, 0],\n",
    "    [4, 8, 3, 7]\n",
    "])\n",
    "\n",
    "print(np.sum(M))  # Sum of all elements\n",
    "print(M.min())  # Minimum value in each column\n",
    "print(M.max())  # Maximum value in each column\n",
    "\n",
    "print(M.min(axis=0))  # Minimum value in each column\n",
    "print(M.max(axis=1))  # Maximum value in each column\n",
    "\n",
    "\"\"\"Axis Rule:\n",
    "axis=0 → operate down columns\n",
    "axis=1 → operate across rows\n",
    "\"\"\"\n"
   ]
  },
  {
   "cell_type": "code",
   "execution_count": null,
   "id": "9278b2d6",
   "metadata": {},
   "outputs": [],
   "source": [
    "\"\"\"\n",
    "Function\t    Description\n",
    "np.sum\t        Sum of all elements\n",
    "np.prod\t        Product of all elements\n",
    "np.mean\t        Mean (average)\n",
    "np.std\t        Standard deviation\n",
    "np.var\t        Variance\n",
    "np.min\t        Minimum value\n",
    "np.max\t        Maximum value\n",
    "np.argmin\t    Index of min value\n",
    "np.argmax\t    Index of max value\n",
    "np.median\t    Median\n",
    "np.percentile\tPercentiles (25th, 75th, etc.)\n",
    "np.any\t        Is any value True?\n",
    "np.all\t        Are all values True?\n",
    "\"\"\""
   ]
  },
  {
   "cell_type": "code",
   "execution_count": null,
   "id": "11312cc6",
   "metadata": {},
   "outputs": [
    {
     "data": {
      "text/plain": [
       "array([[1., 2., 3.],\n",
       "       [1., 2., 3.],\n",
       "       [1., 2., 3.]])"
      ]
     },
     "execution_count": 9,
     "metadata": {},
     "output_type": "execute_result"
    }
   ],
   "source": [
    "\"\"\"\n",
    "Broadcasting = automatic shape matching.\n",
    "Think of it like NumPy saying:\n",
    "\n",
    "“I'll stretch this where needed as long as you're not totally incompatible.”\n",
    "\n",
    "Broadcasting lets NumPy apply operations between arrays of different shapes without explicit loops or copying\n",
    "\"\"\"\n",
    "\n",
    "M = np.ones((3, 3))\n",
    "a = np.array([0, 1, 2])\n",
    "M + a"
   ]
  },
  {
   "cell_type": "code",
   "execution_count": 32,
   "id": "55a9806d",
   "metadata": {},
   "outputs": [
    {
     "name": "stdout",
     "output_type": "stream",
     "text": [
      "[ True  True False False False]\n",
      "[False False False  True  True]\n",
      "[ True  True  True False False]\n",
      "[False False  True  True  True]\n",
      "[ True  True False  True  True]\n",
      "[False False  True False False]\n",
      "[False  True False False False]\n"
     ]
    }
   ],
   "source": [
    "## Comparisons, Masks, and Boolean Logic\n",
    "\n",
    "# Comparison Operators as Ufuncs\n",
    "x = np.array([1, 2, 3, 4, 5])\n",
    "print(x < 3) # less than\n",
    "print(x > 3) # greater than\n",
    "print(x <= 3) # less than or equal\n",
    "print(x >= 3) # greater than or equal\n",
    "print(x != 3) # not equal\n",
    "print(x == 3) # equal\n",
    "print((2 * x) == (x ** 2)) # element-wise comparison"
   ]
  },
  {
   "cell_type": "code",
   "execution_count": null,
   "id": "a96b636d",
   "metadata": {},
   "outputs": [],
   "source": [
    "\"\"\"\n",
    "All comparison ops work:\n",
    "\n",
    "Expression\t  Meaning\n",
    "x < 3\t      Less than\n",
    "x > 3\t      Greater than\n",
    "x <= 3\t      Less than or equal\n",
    "x >= 3\t      Greater than or equal\n",
    "x == 3\t      Equal\n",
    "x != 3\t      Not equal\n",
    "\n",
    "Also works for 2D arrays, giving Boolean arrays with same shape as original.\n",
    "\"\"\""
   ]
  },
  {
   "cell_type": "code",
   "execution_count": 23,
   "id": "b925e534",
   "metadata": {},
   "outputs": [
    {
     "data": {
      "text/plain": [
       "array([False,  True,  True,  True])"
      ]
     },
     "execution_count": 23,
     "metadata": {},
     "output_type": "execute_result"
    }
   ],
   "source": [
    "##  Working with Boolean Arrays\n",
    "\n",
    "x = np.array([[9, 4, 0, 3],\n",
    "              [8, 6, 3, 1],\n",
    "              [3, 7, 4, 0]])\n",
    "\n",
    "np.count_nonzero(x < 6) # Count how many elements are less than 6\n",
    "\n",
    "\"\"\"\n",
    "o/p explanation:\n",
    "Row 0: [9, 4, 0, 3]  → 4, 0, 3 → 3 values\n",
    "Row 1: [8, 6, 3, 1]  → 3, 1    → 2 values\n",
    "Row 2: [3, 7, 4, 0]  → 3, 4, 0 → 3 values\n",
    "\n",
    "Total = 3 + 2 + 3 = 8\n",
    "\"\"\"\n",
    "\n",
    "np.sum(x < 6) # Count how many elements are less than 6 (True counts as 1, False as 0)\n",
    "np.sum(x < 6, axis=0) # Count how many elements are less than 6 in each column\n",
    "np.sum(x < 6, axis=1) # Count how many elements are less than 6 in each row\n",
    "np.any(x < 6) # Check if any element is less than 6 (returns True if at least one is True)\n",
    "np.all(x < 6) # Check if all elements are less than 6 (returns True only if all are True)\n",
    "np.all(x < 8, axis=1) # row-wise all-check\n",
    "np.all(x < 8, axis=0) # column-wise all-check"
   ]
  },
  {
   "cell_type": "code",
   "execution_count": 33,
   "id": "e2676aee",
   "metadata": {},
   "outputs": [
    {
     "name": "stdout",
     "output_type": "stream",
     "text": [
      "[1 3 5 7 9]\n",
      "[False False  True  True False]\n",
      "[ True  True  True  True  True]\n",
      "True False\n",
      "False\n",
      "True\n",
      "0b101010\n",
      "0b111011\n",
      "0b101010\n",
      "0b111011\n"
     ]
    }
   ],
   "source": [
    "\"\"\"\n",
    "3. Boolean Operators\n",
    "Use these to combine conditions:\n",
    "\n",
    "& (and)\n",
    "\n",
    "| (or)\n",
    "\n",
    "~ (not)\"\"\"\n",
    "\n",
    "b = np.arange(1,10,2)\n",
    "print(b)\n",
    "print((b > 4) & (b < 8))\n",
    "print((b > 4) | (b < 8))\n",
    "print(bool(42), bool(0))\n",
    "print(bool(42 and 0))\n",
    "print(bool(42 or 0))\n",
    "print(bin(42))\n",
    "print(bin(59))\n",
    "print(bin(42 & 59))\n",
    "print(bin(42 | 59))"
   ]
  },
  {
   "cell_type": "code",
   "execution_count": 24,
   "id": "c92cf46c",
   "metadata": {},
   "outputs": [
    {
     "data": {
      "text/plain": [
       "array([4, 0, 3, 3, 1, 3, 4, 0])"
      ]
     },
     "execution_count": 24,
     "metadata": {},
     "output_type": "execute_result"
    }
   ],
   "source": [
    "# Boolean Masks: Powerful Filtering\n",
    "x[x < 6]  # Get all elements less than 6"
   ]
  },
  {
   "cell_type": "code",
   "execution_count": 34,
   "id": "c78b9673",
   "metadata": {},
   "outputs": [
    {
     "data": {
      "text/plain": [
       "array([30, 15, 80])"
      ]
     },
     "execution_count": 34,
     "metadata": {},
     "output_type": "execute_result"
    }
   ],
   "source": [
    "## Fancy Indexing\n",
    "\n",
    "## It means: you give NumPy a list or array of indices, and it fetches multiple elements at once.\n",
    "\n",
    "\n",
    "x = np.array([90, 40, 9, 30, 80, 67, 39, 15, 33, 79])\n",
    "x[[3, 7, 4]] "
   ]
  },
  {
   "cell_type": "code",
   "execution_count": null,
   "id": "506851df",
   "metadata": {},
   "outputs": [
    {
     "data": {
      "text/plain": [
       "array([ 2,  5, 11])"
      ]
     },
     "execution_count": 35,
     "metadata": {},
     "output_type": "execute_result"
    }
   ],
   "source": [
    "X = np.arange(12).reshape((3, 4))\n",
    "row = np.array([0, 1, 2])\n",
    "col = np.array([2, 1, 3])\n",
    "X[row, col]\n",
    "\n",
    "\"\"\"\n",
    "o/p explanation:\n",
    "X[0,2] = 2\n",
    "X[1,1] = 5\n",
    "X[2,3] = 11\n",
    "\"\"\""
   ]
  },
  {
   "cell_type": "code",
   "execution_count": 36,
   "id": "0f106982",
   "metadata": {},
   "outputs": [
    {
     "name": "stdout",
     "output_type": "stream",
     "text": [
      "[ 2  4  5  7 33  9]\n"
     ]
    }
   ],
   "source": [
    "fancy_index = np.array([2,4,5,7,8,9])\n",
    "i=4\n",
    "val=25\n",
    "np.add.at(fancy_index, i, val)\n",
    "print(fancy_index)"
   ]
  },
  {
   "cell_type": "code",
   "execution_count": null,
   "id": "f8215ab4",
   "metadata": {},
   "outputs": [
    {
     "data": {
      "text/plain": [
       "array([[100,   2,   3,   4],\n",
       "       [  5,   6,   7,   8],\n",
       "       [  9,  10,  11,  12]])"
      ]
     },
     "execution_count": 6,
     "metadata": {},
     "output_type": "execute_result"
    }
   ],
   "source": [
    "# View\n",
    "\n",
    "a = np.array([[1,2,3,4],[5,6,7,8],[9,10,11,12]])\n",
    "\n",
    "sub_arr = a[:2, :2]  # memory is same for both a and sub_arr\n",
    "sub_arr[0,0] = 100\n",
    "sub_arr\n",
    "\n",
    "a  # if we direclty modify the sub-array, it will also modify the original array"
   ]
  },
  {
   "cell_type": "code",
   "execution_count": null,
   "id": "215d357a",
   "metadata": {},
   "outputs": [
    {
     "data": {
      "text/plain": [
       "array([[100,   2,   3,   4],\n",
       "       [  5,   6,   7,   8],\n",
       "       [  9,  10,  11,  12]])"
      ]
     },
     "execution_count": 8,
     "metadata": {},
     "output_type": "execute_result"
    }
   ],
   "source": [
    "# Copy\n",
    "\n",
    "sub_arr_1 = a[:2, :2].copy()  # Create a copy of the subarray , memory is different for both , deep-copy\n",
    "sub_arr_1[0,0] = 200\n",
    "sub_arr_1\n",
    "\n",
    "a # to avoid modifying the original array, we can use .copy() method"
   ]
  },
  {
   "cell_type": "code",
   "execution_count": null,
   "id": "b9b4ec35",
   "metadata": {},
   "outputs": [],
   "source": [
    "## Sorting Arrays\n",
    "\n",
    "#  Sorting is all about how to arrange or organize data efficiently in NumPy. Sorting is super useful in data science for ranking, filtering, and finding nearest neighbors."
   ]
  },
  {
   "cell_type": "code",
   "execution_count": 5,
   "id": "10e8035a",
   "metadata": {},
   "outputs": [
    {
     "name": "stdout",
     "output_type": "stream",
     "text": [
      "[1, 2, 3, 4]\n",
      "[3 1 2 4]\n",
      "[1 2 3 4]\n"
     ]
    }
   ],
   "source": [
    "# Python vs NumPy Sorting\n",
    "\n",
    "# Python's built-in sort is slow for large data, while NumPy's sort is fast and efficient.\n",
    "# NumPy's sort is implemented in C, making it much faster than Python's built-in sort.\n",
    "# NumPy's sort is stable, meaning it preserves the order of equal elements.\n",
    "# NumPy's sort can handle multi-dimensional arrays, while Python's built-in sort only works on 1D lists.\n",
    "# NumPy's sort can sort along any axis, while Python's built-in sort only sorts the entire list.\n",
    "# NumPy's sort can sort in-place, while Python's built-in sort creates a new sorted list.\n",
    "# NumPy's sort can handle complex data types, while Python's built-in sort only works on simple data types.\n",
    "# NumPy's sort can handle missing values, while Python's built-in sort cannot.\n",
    "# NumPy's sort can handle large datasets, while Python's built-in sort is limited by memory.\n",
    "# NumPy's sort is more flexible and powerful than Python's built-in sort.\n",
    "\n",
    "\n",
    "# sorting in python\n",
    "x = [3, 1, 2, 4]\n",
    "x.sort() # In-place sort\n",
    "print(x)\n",
    "\n",
    "\n",
    "# sorting in numpy\n",
    "x = np.array([3, 1, 2, 4])\n",
    "y = np.sort(x)  # Returns a new sorted array\n",
    "print(x)  # Original array remains unchanged\n",
    "print(y)  # Sorted array"
   ]
  },
  {
   "cell_type": "code",
   "execution_count": 8,
   "id": "b5fb0781",
   "metadata": {},
   "outputs": [
    {
     "name": "stdout",
     "output_type": "stream",
     "text": [
      "[1 2 0 3]\n",
      "[11 12 13 14]\n"
     ]
    }
   ],
   "source": [
    "# Getting Sort Order: np.argsort\n",
    "\n",
    "x = np.array([13, 11, 12, 14])\n",
    "order = np.argsort(x)  # Get indices that would sort the array\n",
    "print(order)  # Indices of sorted elements\n",
    "print(x[order])  # Use indices to get sorted array"
   ]
  },
  {
   "cell_type": "code",
   "execution_count": null,
   "id": "dc8cb75b",
   "metadata": {},
   "outputs": [],
   "source": [
    "# note : np.sort() sorts along the last axis by default, but you can specify the axis using the axis parameter.\n",
    "# np.argsort() returns the indices that would sort the array, which can be useful for reordering other arrays based on the sorted order."
   ]
  },
  {
   "cell_type": "code",
   "execution_count": null,
   "id": "2f0710b2",
   "metadata": {},
   "outputs": [
    {
     "name": "stdout",
     "output_type": "stream",
     "text": [
      "[[ 1 15 13  8]\n",
      " [ 8 17  1 13]\n",
      " [ 4  1 10 19]]\n",
      "[[ 1  1  1  8]\n",
      " [ 4 15 10 13]\n",
      " [ 8 17 13 19]]\n",
      "[[ 1  8 13 15]\n",
      " [ 1  8 13 17]\n",
      " [ 1  4 10 19]]\n"
     ]
    }
   ],
   "source": [
    "# Sorting Along Rows/Columns\n",
    "# Each row/column is sorted independently.\n",
    "\n",
    "rng = np.random.default_rng(42)  # Create a random number generator\n",
    "sorting = rng.integers(0,20, size=(3,4))  # Generate a random 2D array\n",
    "print(sorting)\n",
    "\n",
    "# sort by columns\n",
    "print(np.sort(sorting, axis=0))\n",
    "\n",
    "# sort by rows\n",
    "print(np.sort(sorting, axis=1))"
   ]
  },
  {
   "cell_type": "code",
   "execution_count": 18,
   "id": "05b5abce",
   "metadata": {},
   "outputs": [
    {
     "name": "stdout",
     "output_type": "stream",
     "text": [
      "[17 18 13 11 16 15 14]\n",
      "[11 13 14 17 16 15 18]\n"
     ]
    }
   ],
   "source": [
    "# Partial Sorts: np.partition\n",
    "\n",
    "\"\"\"\n",
    "Sometimes we’re not interested in sorting the entire array, but simply want to find the\n",
    "k smallest values in the array. NumPy enables this with the np.partition function.\n",
    "np.partition takes an array and a number k; the result is a new array with the smallest k values to the left of the partition and the remaining values to the right.\n",
    "\"\"\"\n",
    "\n",
    "parti = np.array([17, 18, 13, 11, 16, 15, 14])\n",
    "new_parti = np.partition(parti, 2)  # Partitions the array into two parts: smallest 2 values and the rest\n",
    "print(parti)  # Original array remains unchanged\n",
    "print(new_parti)  # New array with smallest 2 values to the left of the partition"
   ]
  },
  {
   "cell_type": "code",
   "execution_count": null,
   "id": "5c4ecf2a",
   "metadata": {},
   "outputs": [
    {
     "name": "stdout",
     "output_type": "stream",
     "text": [
      "[3 2 6 0 4 5 1]\n",
      "[11 13 14 17 16 15 18]\n"
     ]
    }
   ],
   "source": [
    "# Get Indices of Partitions: np.argpartition\n",
    "\n",
    "parti_index = np.argpartition(parti, 2)  # Get indices that would partition the array\n",
    "print(parti_index)  # Indices of the partitioned array\n",
    "print(parti[parti_index])  # Use indices to get partitioned array"
   ]
  },
  {
   "cell_type": "code",
   "execution_count": 26,
   "id": "4a23e91b",
   "metadata": {},
   "outputs": [
    {
     "name": "stdout",
     "output_type": "stream",
     "text": [
      "Predicted label for query point [2 2] is: A\n",
      "['B' 'A' 'A' 'B']\n"
     ]
    }
   ],
   "source": [
    "# KNN algorithm using Numpy from scratch\n",
    "\n",
    "\"\"\"\n",
    "step by step procedure to implement KNN algorithm using Numpy from scratch:\n",
    "1) compute the distance between the query_point and all X_train points.\n",
    "2) find the k-smallest distances\n",
    "3) fetch their labels using indices\n",
    "4) return the most frequent label(majority vote) among those k labels.\n",
    "\"\"\"\n",
    "\n",
    "\n",
    "\"\"\"\n",
    "X_train → array of known data points (features).\n",
    "y_train → labels for those known points.\n",
    "query_point → a single new data point you don’t know the label for.\n",
    "\"\"\"\n",
    "\n",
    "\"\"\"\n",
    "Euclidean Distance Formula (2D or nD)\n",
    "For two points:\n",
    "Point A : ( x1, x2, x3 ...... xn )\n",
    "Point B : ( y1, y2, y3 ...... yn )\n",
    "\n",
    "euclidean distance -- > d = √((x₂ - x₁)² + (y₂ - y₁)²) \n",
    "\n",
    "\"\"\"\n",
    "\n",
    "\n",
    "import numpy as np\n",
    "from collections import Counter \n",
    "\n",
    "def knn(X_train, y_train, query_point, k=3):\n",
    "    # step 1 : compute euclidean distance between query_point and all X_train points\n",
    "    # distances = np.linalg.norm(X_train - query_point, axis=1)\n",
    "    distances = np.sqrt(np.sum((X_train - query_point) ** 2, axis=1))\n",
    "\n",
    "    # step-2 : get incides of k nearest neighbors\n",
    "    nearest_indices = np.argsort(distances)[:k]\n",
    "\n",
    "    # step-3 : get the label of those neighbors\n",
    "    neareast_labels = y_train[nearest_indices]\n",
    "\n",
    "    # step-4 : majority vote\n",
    "    majority_vote = Counter(neareast_labels).most_common(1)[0][0]\n",
    "\n",
    "    return majority_vote\n",
    "\n",
    "\n",
    "# predict single query point\n",
    "X_train = np.array([[1, 2], [2, 3], [3, 4], [5, 6], [7, 8]])\n",
    "y_train = np.array([\"A\", \"A\", \"B\", \"B\", \"C\"])\n",
    "query_point = np.array([2, 2])\n",
    "k = 3\n",
    "predicted_label = knn(X_train, y_train, query_point, k)\n",
    "print(f\"Predicted label for query point {query_point} is: {predicted_label}\")\n",
    "\n",
    "# predict multiple query points\n",
    "multiple_query_point = np.array([[5,4],[3,2],[3,1],[5,3]])\n",
    "print(np.array([knn(X_train, y_train, q, k) for q in multiple_query_point]))\n"
   ]
  },
  {
   "cell_type": "code",
   "execution_count": 27,
   "id": "38f2c767",
   "metadata": {},
   "outputs": [
    {
     "data": {
      "image/png": "[encoded data removed]",
      "text/plain": [
       "<Figure size 640x480 with 1 Axes>"
      ]
     },
     "metadata": {},
     "output_type": "display_data"
    }
   ],
   "source": [
    "import matplotlib.pyplot as plt\n",
    "\n",
    "# Define a color map for each label\n",
    "label_colors = {'A': 'blue', 'B': 'green', 'C': 'red'}\n",
    "label_markers = {'A': 'o', 'B': 's', 'C': 'D'}\n",
    "\n",
    "# Plot training data\n",
    "for i, point in enumerate(X_train):\n",
    "    label = y_train[i]\n",
    "    plt.scatter(point[0], point[1], \n",
    "                color=label_colors[label], \n",
    "                marker=label_markers[label],\n",
    "                s=100, edgecolor='black', label=f\"Train: {label}\" if f\"Train: {label}\" not in plt.gca().get_legend_handles_labels()[1] else \"\")\n",
    "\n",
    "# Plot single query point\n",
    "plt.scatter(query_point[0], query_point[1], \n",
    "            color='black', marker='*', s=200, label=f\"Query: {predicted_label}\")\n",
    "\n",
    "# Predict and plot multiple query points\n",
    "for q in multiple_query_point:\n",
    "    pred = knn(X_train, y_train, q, k)\n",
    "    plt.scatter(q[0], q[1], \n",
    "                color='black', marker='X', s=150, \n",
    "                label=f\"Query: {pred}\" if f\"Query: {pred}\" not in plt.gca().get_legend_handles_labels()[1] else \"\")\n",
    "\n",
    "# Title and legend\n",
    "plt.title(\"KNN Visualization (k=3)\")\n",
    "plt.xlabel(\"Feature 1\")\n",
    "plt.ylabel(\"Feature 2\")\n",
    "plt.legend()\n",
    "plt.grid(True)\n",
    "plt.show()\n"
   ]
  },
  {
   "cell_type": "code",
   "execution_count": 38,
   "id": "8bd49717",
   "metadata": {},
   "outputs": [
    {
     "name": "stdout",
     "output_type": "stream",
     "text": [
      "Final Centroids:\n",
      " [[7.33333333 9.        ]\n",
      " [1.625      1.85      ]\n",
      " [9.         2.33333333]]\n",
      "Cluster Assignments:\n",
      " [1 1 0 0 1 0 2 2 2 1]\n"
     ]
    }
   ],
   "source": [
    "# K-Means algorithm using Numpy from scratch\n",
    "\n",
    "\n",
    "\"\"\"\n",
    "Step-by-step procedure to implement K-Means Clustering using NumPy:\n",
    "1) Randomly initialize K centroids from the data points.\n",
    "2) Repeat until convergence or max iterations:\n",
    "    a) Compute distance of each point to each centroid.\n",
    "    b) Assign each point to the nearest centroid (cluster).\n",
    "    c) Recalculate each centroid as the mean of its assigned points.\n",
    "\"\"\"\n",
    "\n",
    "import numpy as np\n",
    "\n",
    "def kmeans(x, k, max_iters=100, tol=1e-4):\n",
    "    # step 1 - randomly initialize centroids \n",
    "    rng = np.random.default_rng(seed=42)\n",
    "    centroids = x[rng.choice(len(x), size=k, replace=False)]\n",
    "\n",
    "    for _ in range(max_iters):\n",
    "        # step 2a : compute distances to centroids\n",
    "        distances = np.linalg.norm(x[:, np.newaxis]-centroids, axis=2) \n",
    "\n",
    "        # step 2b : assign points to closest centroid\n",
    "        labels = np.argmin(distances, axis=1)\n",
    "\n",
    "        # step 2c : recompute centroids\n",
    "        new_centroids = np.array([x[labels==i].mean(axis=0) if np.any(labels == i) else centroids[i] for i in range(k)])\n",
    "\n",
    "        # step 2d : check for convergence ( centroid shift < tolerance )\n",
    "        if np.all(np.linalg.norm(new_centroids-centroids, axis=1) < tol):\n",
    "            break\n",
    "\n",
    "        centroids = new_centroids\n",
    "\n",
    "    return centroids, labels\n",
    "\n",
    "\n",
    "X = np.array([\n",
    "    [1, 2], [1.5, 1.8], [5, 8], [8, 8], [1, 0.6],\n",
    "    [9, 11], [8, 2], [10, 2], [9, 3], [3, 3]\n",
    "])\n",
    "\n",
    "k=3\n",
    "\n",
    "final_centroids, labels = kmeans(X,k)\n",
    "\n",
    "print(\"Final Centroids:\\n\", final_centroids)\n",
    "print(\"Cluster Assignments:\\n\", labels)"
   ]
  },
  {
   "cell_type": "code",
   "execution_count": 39,
   "id": "f774bca8",
   "metadata": {},
   "outputs": [
    {
     "data": {
      "image/png": "[encoded data removed]",
      "text/plain": [
       "<Figure size 800x600 with 1 Axes>"
      ]
     },
     "metadata": {},
     "output_type": "display_data"
    }
   ],
   "source": [
    "import matplotlib.pyplot as plt\n",
    "\n",
    "# Plotting function\n",
    "def plot_kmeans(X, labels, centroids):\n",
    "    plt.figure(figsize=(8, 6))\n",
    "    \n",
    "    # Unique cluster labels\n",
    "    unique_labels = np.unique(labels)\n",
    "    colors = plt.cm.viridis(np.linspace(0, 1, len(unique_labels)))\n",
    "\n",
    "    # Plot each cluster\n",
    "    for label, color in zip(unique_labels, colors):\n",
    "        cluster_points = X[labels == label]\n",
    "        plt.scatter(cluster_points[:, 0], cluster_points[:, 1], label=f'Cluster {label}', color=color, alpha=0.6)\n",
    "\n",
    "    # Plot centroids\n",
    "    plt.scatter(centroids[:, 0], centroids[:, 1], marker='X', s=200, color='red', label='Centroids')\n",
    "\n",
    "    plt.title(\"K-Means Clustering Visualization\")\n",
    "    plt.xlabel(\"Feature 1\")\n",
    "    plt.ylabel(\"Feature 2\")\n",
    "    plt.legend()\n",
    "    plt.grid(True)\n",
    "    plt.show()\n",
    "\n",
    "# Call the function to visualize\n",
    "plot_kmeans(X, labels, final_centroids)\n"
   ]
  },
  {
   "cell_type": "code",
   "execution_count": 30,
   "id": "afa89287",
   "metadata": {},
   "outputs": [
    {
     "data": {
      "text/plain": [
       "array([('aswini', 23, 70.), ('kamalesh', 24, 90.), ('kani',  2,  5.),\n",
       "       ('dragom',  0,  3.)],\n",
       "      dtype=[('name', '<U10'), ('age', '<i4'), ('weight', '<f8')])"
      ]
     },
     "execution_count": 30,
     "metadata": {},
     "output_type": "execute_result"
    }
   ],
   "source": [
    "# Structured Data: NumPy’s Structured Arrays\n",
    "# Structured Arrays — it’s all about how NumPy handles heterogeneous (mixed-type) data in a single array.\n",
    "\n",
    "\"\"\"\n",
    "Why Do We Need Structured Arrays?\n",
    "Normally, NumPy arrays store homogeneous data: all ints, all floats, etc.\n",
    "\n",
    "But what if you have data like this?\n",
    "\n",
    "\n",
    "name = ['Alice', 'Bob', 'Cathy', 'Doug']\n",
    "age = [25, 45, 37, 19]\n",
    "weight = [55.0, 85.5, 68.0, 61.5]\n",
    "\n",
    "Three lists — not ideal. They look related, but NumPy sees them as independent.\n",
    "We want to bundle them together — just like rows in a spreadsheet.\n",
    "\"\"\"\n",
    "\n",
    "# Structured Arrays to the Rescue - You can define a NumPy array with custom fields (like name, age, weight).\n",
    "\n",
    "# step 1 - define structured array\n",
    "data = np.zeros(4, dtype={\n",
    "    'names': ('name', 'age', 'weight'),\n",
    "    'formats': ('U10', 'i4', 'f8')\n",
    "})\n",
    "\n",
    "# 'U10': Unicode string, max 10 characters\n",
    "# 'i4': 4-byte integer\n",
    "# 'f8': 8-byte float\n",
    "\n",
    "data['name'] = ['aswini', 'kamalesh', 'kani', 'dragom']\n",
    "data['age'] = ['23', '24', '2', '0']\n",
    "data['weight'] = [70, 90, 5, 3]\n",
    "\n",
    "data"
   ]
  },
  {
   "cell_type": "code",
   "execution_count": null,
   "id": "686a090b",
   "metadata": {},
   "outputs": [
    {
     "data": {
      "text/plain": [
       "array(['aswini', 'kamalesh'], dtype='<U10')"
      ]
     },
     "execution_count": 31,
     "metadata": {},
     "output_type": "execute_result"
    }
   ],
   "source": [
    "data[data['age']>10]['name']  # Accessing the Data"
   ]
  },
  {
   "cell_type": "code",
   "execution_count": null,
   "id": "a527dcc9",
   "metadata": {},
   "outputs": [],
   "source": [
    "# Define Custom Data Types\n",
    "\"\"\"\n",
    "There are different syntaxes to define your structure:\n",
    "\n",
    "Method\t              Example\n",
    "Dict style\t         {'names':..., 'formats':...}\n",
    "List of tuples\t     [('name', 'S10'), ('age', 'i4')]\n",
    "Compact string\t     'S10,i4,f8' → fields auto-named f0, f1...\n",
    "\"\"\""
   ]
  },
  {
   "cell_type": "code",
   "execution_count": null,
   "id": "ac7f9f6b",
   "metadata": {},
   "outputs": [
    {
     "data": {
      "text/plain": [
       "dtype([('id', '<i8'), ('mat', '<f8', (3, 3))])"
      ]
     },
     "execution_count": 32,
     "metadata": {},
     "output_type": "execute_result"
    }
   ],
   "source": [
    "\"\"\"\n",
    "| Concept           | Description                                                     |\n",
    "| ----------------- | --------------------------------------------------------------- |\n",
    "| Structured Arrays | Store mixed types in a single NumPy array (like mini DataFrame) |\n",
    "| Custom dtype      | Defines field names and types                                   |\n",
    "| Access by field   | `data['name']`, `data['age']`                                   |\n",
    "| Record Arrays     | Allows attribute access like `data.age`                         |\n",
    "| Advanced Types    | Arrays inside each element like matrices                        |\n",
    "| Best For          | Lightweight structured data; binary formats; C interop          |\n",
    "| Use Pandas When   | You need advanced data manipulation                             |\n",
    "\"\"\""
   ]
  },
  {
   "cell_type": "code",
   "execution_count": 42,
   "id": "312f989f",
   "metadata": {},
   "outputs": [
    {
     "name": "stdout",
     "output_type": "stream",
     "text": [
      "(3, 5)\n",
      "15\n"
     ]
    }
   ],
   "source": [
    "arr = np.array([[1,2,3,4,5],\n",
    "                [6,7,8,9,0],\n",
    "                [6,7,8,9,0]])\n",
    "\n",
    "print(np.shape(arr))\n",
    "print(np.size(arr))"
   ]
  }
 ],
 "metadata": {
  "kernelspec": {
   "display_name": "guvi_projects_env",
   "language": "python",
   "name": "python3"
  },
  "language_info": {
   "codemirror_mode": {
    "name": "ipython",
    "version": 3
   },
   "file_extension": ".py",
   "mimetype": "text/x-python",
   "name": "python",
   "nbconvert_exporter": "python",
   "pygments_lexer": "ipython3",
   "version": "3.12.2"
  }
 },
 "nbformat": 4,
 "nbformat_minor": 5
}
